{
 "cells": [
  {
   "cell_type": "markdown",
   "metadata": {},
   "source": [
    "#  SQL Queries 01"
   ]
  },
  {
   "cell_type": "markdown",
   "metadata": {},
   "source": [
    "For more SQL examples in the SQLite3 dialect, seee [SQLite3 tutorial](https://www.techonthenet.com/sqlite/index.php). \n",
    "\n",
    "For a deep dive, see [SQL Queries for Mere Mortals](https://www.amazon.com/SQL-Queries-Mere-Mortals-Hands/dp/0134858336/ref=dp_ob_title_bk)."
   ]
  },
  {
   "cell_type": "markdown",
   "metadata": {},
   "source": [
    "## Data"
   ]
  },
  {
   "cell_type": "code",
   "execution_count": 1,
   "metadata": {},
   "outputs": [],
   "source": [
    "%load_ext sql"
   ]
  },
  {
   "cell_type": "code",
   "execution_count": 20,
   "metadata": {},
   "outputs": [
    {
     "data": {
      "text/plain": [
       "'Connected: None@data/faculty.db'"
      ]
     },
     "execution_count": 20,
     "metadata": {},
     "output_type": "execute_result"
    }
   ],
   "source": [
    "%sql sqlite:///data/faculty.db"
   ]
  },
  {
   "cell_type": "code",
   "execution_count": 21,
   "metadata": {},
   "outputs": [
    {
     "name": "stdout",
     "output_type": "stream",
     "text": [
      "Done.\n"
     ]
    },
    {
     "data": {
      "text/html": [
       "<table>\n",
       "    <tr>\n",
       "        <th>type</th>\n",
       "        <th>name</th>\n",
       "        <th>tbl_name</th>\n",
       "        <th>rootpage</th>\n",
       "        <th>sql</th>\n",
       "    </tr>\n",
       "    <tr>\n",
       "        <td>table</td>\n",
       "        <td>person</td>\n",
       "        <td>person</td>\n",
       "        <td>2</td>\n",
       "        <td>CREATE TABLE person (<br>\t&quot;index&quot; BIGINT, <br>\tperson_id BIGINT, <br>\tfirst TEXT, <br>\tlast TEXT, <br>\tage BIGINT, <br>\theight FLOAT, <br>\tweight BIGINT, <br>\tcountry_id TEXT, <br>\tgender_id BIGINT<br>)</td>\n",
       "    </tr>\n",
       "    <tr>\n",
       "        <td>table</td>\n",
       "        <td>confidential</td>\n",
       "        <td>confidential</td>\n",
       "        <td>18</td>\n",
       "        <td>CREATE TABLE confidential (<br>\t&quot;index&quot; BIGINT, <br>\tperson_id BIGINT, <br>\tsalary BIGINT<br>)</td>\n",
       "    </tr>\n",
       "    <tr>\n",
       "        <td>table</td>\n",
       "        <td>person_language</td>\n",
       "        <td>person_language</td>\n",
       "        <td>33</td>\n",
       "        <td>CREATE TABLE person_language (<br>\t&quot;index&quot; BIGINT, <br>\tperson_id BIGINT, <br>\tlanguage_id BIGINT<br>)</td>\n",
       "    </tr>\n",
       "    <tr>\n",
       "        <td>table</td>\n",
       "        <td>language</td>\n",
       "        <td>language</td>\n",
       "        <td>50</td>\n",
       "        <td>CREATE TABLE language (<br>\t&quot;index&quot; BIGINT, <br>\tlanguage_id BIGINT, <br>\tlanguage_name TEXT<br>)</td>\n",
       "    </tr>\n",
       "    <tr>\n",
       "        <td>table</td>\n",
       "        <td>gender</td>\n",
       "        <td>gender</td>\n",
       "        <td>55</td>\n",
       "        <td>CREATE TABLE gender (<br>\t&quot;index&quot; BIGINT, <br>\tgender_id BIGINT, <br>\tgender TEXT<br>)</td>\n",
       "    </tr>\n",
       "    <tr>\n",
       "        <td>table</td>\n",
       "        <td>country</td>\n",
       "        <td>country</td>\n",
       "        <td>57</td>\n",
       "        <td>CREATE TABLE country (<br>\t&quot;index&quot; BIGINT, <br>\tcountry_id TEXT, <br>\tcountry TEXT, <br>\tnationality TEXT<br>)</td>\n",
       "    </tr>\n",
       "</table>"
      ],
      "text/plain": [
       "[('table', 'person', 'person', 2, 'CREATE TABLE person (\\n\\t\"index\" BIGINT, \\n\\tperson_id BIGINT, \\n\\tfirst TEXT, \\n\\tlast TEXT, \\n\\tage BIGINT, \\n\\theight FLOAT, \\n\\tweight BIGINT, \\n\\tcountry_id TEXT, \\n\\tgender_id BIGINT\\n)'),\n",
       " ('table', 'confidential', 'confidential', 18, 'CREATE TABLE confidential (\\n\\t\"index\" BIGINT, \\n\\tperson_id BIGINT, \\n\\tsalary BIGINT\\n)'),\n",
       " ('table', 'person_language', 'person_language', 33, 'CREATE TABLE person_language (\\n\\t\"index\" BIGINT, \\n\\tperson_id BIGINT, \\n\\tlanguage_id BIGINT\\n)'),\n",
       " ('table', 'language', 'language', 50, 'CREATE TABLE language (\\n\\t\"index\" BIGINT, \\n\\tlanguage_id BIGINT, \\n\\tlanguage_name TEXT\\n)'),\n",
       " ('table', 'gender', 'gender', 55, 'CREATE TABLE gender (\\n\\t\"index\" BIGINT, \\n\\tgender_id BIGINT, \\n\\tgender TEXT\\n)'),\n",
       " ('table', 'country', 'country', 57, 'CREATE TABLE country (\\n\\t\"index\" BIGINT, \\n\\tcountry_id TEXT, \\n\\tcountry TEXT, \\n\\tnationality TEXT\\n)')]"
      ]
     },
     "execution_count": 21,
     "metadata": {},
     "output_type": "execute_result"
    }
   ],
   "source": [
    "%%sql\n",
    "\n",
    "SELECT * FROM sqlite_master WHERE type='table';"
   ]
  },
  {
   "cell_type": "markdown",
   "metadata": {},
   "source": [
    "## Basic Structure"
   ]
  },
  {
   "cell_type": "markdown",
   "metadata": {},
   "source": [
    "```SQL\n",
    "SELECT DISTINCT value_expression AS alias\n",
    "FROM tables AS alias\n",
    "WHERE predicate\n",
    "ORDER BY value_expression\n",
    "```"
   ]
  },
  {
   "cell_type": "markdown",
   "metadata": {},
   "source": [
    "### Types"
   ]
  },
  {
   "cell_type": "markdown",
   "metadata": {},
   "source": [
    "- Character (Fixed width, variable width)\n",
    "- National Character (Fixed width, variable width)\n",
    "- Binary\n",
    "- Numeric (Exact, Arpproximate)\n",
    "- Boolean\n",
    "- DateTime\n",
    "- Interval\n",
    "\n",
    "The SQL standard specifies that character strings and datetime literals are enclosed by single quotes. Two single quotes wihtin a string is intepreted as a literal single quote.\n",
    "\n",
    "```sql\n",
    "'Gilligan''s island'\n",
    "```"
   ]
  },
  {
   "cell_type": "markdown",
   "metadata": {},
   "source": [
    "#### The CAST function"
   ]
  },
  {
   "cell_type": "markdown",
   "metadata": {},
   "source": [
    "```sql\n",
    "CAST(X as CHARACTER(10))\n",
    "```"
   ]
  },
  {
   "cell_type": "markdown",
   "metadata": {},
   "source": [
    "### Value expression\n",
    "\n",
    "- Literal\n",
    "- Column reference\n",
    "- Function\n",
    "- CASES\n",
    "- (Value expression)\n",
    "- (SELECT expression)\n",
    "\n",
    "which may be prefixed with unary operators `-` and `+` and combined with binary operators appropriate for the data type."
   ]
  },
  {
   "cell_type": "markdown",
   "metadata": {},
   "source": [
    "### Bineary operators"
   ]
  },
  {
   "cell_type": "markdown",
   "metadata": {},
   "source": [
    "#### Concatenation"
   ]
  },
  {
   "cell_type": "markdown",
   "metadata": {},
   "source": [
    "```SQL\n",
    "A || B\n",
    "```"
   ]
  },
  {
   "cell_type": "markdown",
   "metadata": {},
   "source": [
    "#### Mathematical"
   ]
  },
  {
   "cell_type": "markdown",
   "metadata": {},
   "source": [
    "```SQL\n",
    "A + B\n",
    "A - B\n",
    "A * B\n",
    "A / B\n",
    "```"
   ]
  },
  {
   "cell_type": "markdown",
   "metadata": {},
   "source": [
    "#### Data and time arithmetic"
   ]
  },
  {
   "cell_type": "markdown",
   "metadata": {},
   "source": [
    "```SQL\n",
    "'2018-08-29' + 3\n",
    "'11:59' + '00:01'\n",
    "```"
   ]
  },
  {
   "cell_type": "code",
   "execution_count": 23,
   "metadata": {},
   "outputs": [
    {
     "name": "stdout",
     "output_type": "stream",
     "text": [
      "Done.\n"
     ]
    },
    {
     "data": {
      "text/html": [
       "<table>\n",
       "    <tr>\n",
       "        <th>language_name</th>\n",
       "    </tr>\n",
       "    <tr>\n",
       "        <td>PHP</td>\n",
       "    </tr>\n",
       "    <tr>\n",
       "        <td>Clojure</td>\n",
       "    </tr>\n",
       "    <tr>\n",
       "        <td>Dylan</td>\n",
       "    </tr>\n",
       "    <tr>\n",
       "        <td>GNU Octave</td>\n",
       "    </tr>\n",
       "    <tr>\n",
       "        <td>D</td>\n",
       "    </tr>\n",
       "</table>"
      ],
      "text/plain": [
       "[('PHP',), ('Clojure',), ('Dylan',), ('GNU Octave',), ('D',)]"
      ]
     },
     "execution_count": 23,
     "metadata": {},
     "output_type": "execute_result"
    }
   ],
   "source": [
    "%%sql\n",
    "\n",
    "SELECT DISTINCT language_name\n",
    "FROM language\n",
    "LIMIT 5;"
   ]
  },
  {
   "cell_type": "markdown",
   "metadata": {},
   "source": [
    "### Sorting"
   ]
  },
  {
   "cell_type": "markdown",
   "metadata": {},
   "source": [
    "```SQL\n",
    "SELECT DISTINCT value_expression AS alias\n",
    "FROM tables AS alias\n",
    "ORDER BY value_expression\n",
    "```"
   ]
  },
  {
   "cell_type": "code",
   "execution_count": 24,
   "metadata": {},
   "outputs": [
    {
     "name": "stdout",
     "output_type": "stream",
     "text": [
      "Done.\n"
     ]
    },
    {
     "data": {
      "text/html": [
       "<table>\n",
       "    <tr>\n",
       "        <th>language_name</th>\n",
       "    </tr>\n",
       "    <tr>\n",
       "        <td>ASP</td>\n",
       "    </tr>\n",
       "    <tr>\n",
       "        <td>Assembly</td>\n",
       "    </tr>\n",
       "    <tr>\n",
       "        <td>AutoIt</td>\n",
       "    </tr>\n",
       "    <tr>\n",
       "        <td>Awk</td>\n",
       "    </tr>\n",
       "    <tr>\n",
       "        <td>Bash</td>\n",
       "    </tr>\n",
       "</table>"
      ],
      "text/plain": [
       "[('ASP',), ('Assembly',), ('AutoIt',), ('Awk',), ('Bash',)]"
      ]
     },
     "execution_count": 24,
     "metadata": {},
     "output_type": "execute_result"
    }
   ],
   "source": [
    "%%sql\n",
    "\n",
    "SELECT DISTINCT language_name\n",
    "FROM language\n",
    "ORDER BY language_name ASC\n",
    "LIMIT 5;"
   ]
  },
  {
   "cell_type": "markdown",
   "metadata": {},
   "source": [
    "### Filtering\n",
    "\n",
    "For efficiency, place the most stringent filters first."
   ]
  },
  {
   "cell_type": "markdown",
   "metadata": {},
   "source": [
    "```SQL\n",
    "SELECT DISTINCT value_expression AS alias\n",
    "FROM tables AS alias\n",
    "WHERE predicate\n",
    "ORDER BY value_expression\n",
    "```"
   ]
  },
  {
   "cell_type": "markdown",
   "metadata": {},
   "source": [
    "#### Predicates for filtering rows"
   ]
  },
  {
   "cell_type": "markdown",
   "metadata": {},
   "source": [
    "- Comparison operators (=, <>, <, >, <=, >=)\n",
    "- BETWEEN start AND end\n",
    "- IN(A, B, C)\n",
    "- LIKE\n",
    "- IS NULL\n",
    "- REGEX\n",
    "\n",
    "Use NOT prefix for negation"
   ]
  },
  {
   "cell_type": "markdown",
   "metadata": {},
   "source": [
    "#### Combining predicates\n",
    "\n",
    "```sql\n",
    "AND\n",
    "OR\n",
    "```\n",
    "\n",
    "USe parenthesis to indicate order of evaluation for compound statements."
   ]
  },
  {
   "cell_type": "code",
   "execution_count": 25,
   "metadata": {},
   "outputs": [
    {
     "name": "stdout",
     "output_type": "stream",
     "text": [
      "Done.\n"
     ]
    },
    {
     "data": {
      "text/html": [
       "<table>\n",
       "    <tr>\n",
       "        <th>first</th>\n",
       "        <th>last</th>\n",
       "        <th>age</th>\n",
       "    </tr>\n",
       "    <tr>\n",
       "        <td>Antoine</td>\n",
       "        <td>Beard</td>\n",
       "        <td>16</td>\n",
       "    </tr>\n",
       "    <tr>\n",
       "        <td>Augustine</td>\n",
       "        <td>Mejia</td>\n",
       "        <td>16</td>\n",
       "    </tr>\n",
       "    <tr>\n",
       "        <td>Boris</td>\n",
       "        <td>Mejia</td>\n",
       "        <td>16</td>\n",
       "    </tr>\n",
       "    <tr>\n",
       "        <td>Brain</td>\n",
       "        <td>Haney</td>\n",
       "        <td>16</td>\n",
       "    </tr>\n",
       "    <tr>\n",
       "        <td>Burl</td>\n",
       "        <td>Mayo</td>\n",
       "        <td>17</td>\n",
       "    </tr>\n",
       "</table>"
      ],
      "text/plain": [
       "[('Antoine', 'Beard', 16),\n",
       " ('Augustine', 'Mejia', 16),\n",
       " ('Boris', 'Mejia', 16),\n",
       " ('Brain', 'Haney', 16),\n",
       " ('Burl', 'Mayo', 17)]"
      ]
     },
     "execution_count": 25,
     "metadata": {},
     "output_type": "execute_result"
    }
   ],
   "source": [
    "%%sql\n",
    "\n",
    "SELECT first, last, age\n",
    "FROM person\n",
    "WHERE age BETWEEN 16 AND 17\n",
    "LIMIT 5;"
   ]
  },
  {
   "cell_type": "markdown",
   "metadata": {},
   "source": [
    "### Joins\n",
    "\n",
    "Joins combine data from 1 or more tables to form a new result set."
   ]
  },
  {
   "cell_type": "markdown",
   "metadata": {},
   "source": [
    "#### Natural join\n",
    "\n",
    "Uses all common columns in Tables 1 and 2 for JOIN\n",
    "\n",
    "```SQL\n",
    "FROM Table1 \n",
    "NATURAL INNER JOIN Table 2\n",
    "```"
   ]
  },
  {
   "cell_type": "markdown",
   "metadata": {},
   "source": [
    "#### Inner join"
   ]
  },
  {
   "cell_type": "markdown",
   "metadata": {},
   "source": [
    "General form of INNER JOIN uisng ON\n",
    "\n",
    "```SQL\n",
    "FROM Table1 \n",
    "INNER JOIN Table2\n",
    "ON Table1.Column = Table2.Column\n",
    "```"
   ]
  },
  {
   "cell_type": "markdown",
   "metadata": {},
   "source": [
    "If there is a common column in both tables\n",
    "\n",
    "```SQL\n",
    "FROM Table1\n",
    "INNER JOIN Table2\n",
    "USING Column\n",
    "```"
   ]
  },
  {
   "cell_type": "markdown",
   "metadata": {},
   "source": [
    "Joining more than two tables\n",
    "\n",
    "```SQL\n",
    "From (Table1 \n",
    "      INNER JOIN Table2\n",
    "      ON Table1.column1 = Table2.Column1)\n",
    "      INNER JOIN Table3 \n",
    "      ON Table3.column2 = Table2.Column2\n",
    "```"
   ]
  },
  {
   "cell_type": "markdown",
   "metadata": {},
   "source": [
    "#### Outer join"
   ]
  },
  {
   "cell_type": "markdown",
   "metadata": {},
   "source": [
    "General form of OUTER JOIN uisng ON\n",
    "\n",
    "```SQL\n",
    "FROM Table1 \n",
    "RIGHT OUTER JOIN Table2\n",
    "ON Table1.Column = Table2.Column\n",
    "```\n",
    "\n",
    "```SQL\n",
    "FROM Table1 \n",
    "LEFT OUTER JOIN Table2\n",
    "ON Table1.Column = Table2.Column\n",
    "```\n",
    "\n",
    "```SQL\n",
    "FROM Table1 \n",
    "FULL OUTER JOIN Table2\n",
    "ON Table1.Column = Table2.Column\n",
    "```"
   ]
  },
  {
   "cell_type": "code",
   "execution_count": 26,
   "metadata": {},
   "outputs": [
    {
     "name": "stdout",
     "output_type": "stream",
     "text": [
      "Done.\n"
     ]
    },
    {
     "data": {
      "text/html": [
       "<table>\n",
       "    <tr>\n",
       "        <th>first</th>\n",
       "        <th>last</th>\n",
       "        <th>language_name</th>\n",
       "    </tr>\n",
       "    <tr>\n",
       "        <td>Aaron</td>\n",
       "        <td>Alexander</td>\n",
       "        <td>Haskell</td>\n",
       "    </tr>\n",
       "    <tr>\n",
       "        <td>Aaron</td>\n",
       "        <td>Kirby</td>\n",
       "        <td>GNU Octave</td>\n",
       "    </tr>\n",
       "    <tr>\n",
       "        <td>Aaron</td>\n",
       "        <td>Kirby</td>\n",
       "        <td>haXe</td>\n",
       "    </tr>\n",
       "    <tr>\n",
       "        <td>Aaron</td>\n",
       "        <td>Kirby</td>\n",
       "        <td>Falcon</td>\n",
       "    </tr>\n",
       "    <tr>\n",
       "        <td>Abram</td>\n",
       "        <td>Allen</td>\n",
       "        <td>TypeScript</td>\n",
       "    </tr>\n",
       "    <tr>\n",
       "        <td>Abram</td>\n",
       "        <td>Boyer</td>\n",
       "        <td>Io</td>\n",
       "    </tr>\n",
       "    <tr>\n",
       "        <td>Abram</td>\n",
       "        <td>Boyer</td>\n",
       "        <td>Lua</td>\n",
       "    </tr>\n",
       "    <tr>\n",
       "        <td>Abram</td>\n",
       "        <td>Boyer</td>\n",
       "        <td>Falcon</td>\n",
       "    </tr>\n",
       "    <tr>\n",
       "        <td>Adan</td>\n",
       "        <td>Brown</td>\n",
       "        <td>F#</td>\n",
       "    </tr>\n",
       "    <tr>\n",
       "        <td>Adolph</td>\n",
       "        <td>Dalton</td>\n",
       "        <td>Dart</td>\n",
       "    </tr>\n",
       "</table>"
      ],
      "text/plain": [
       "[('Aaron', 'Alexander', 'Haskell'),\n",
       " ('Aaron', 'Kirby', 'GNU Octave'),\n",
       " ('Aaron', 'Kirby', 'haXe'),\n",
       " ('Aaron', 'Kirby', 'Falcon'),\n",
       " ('Abram', 'Allen', 'TypeScript'),\n",
       " ('Abram', 'Boyer', 'Io'),\n",
       " ('Abram', 'Boyer', 'Lua'),\n",
       " ('Abram', 'Boyer', 'Falcon'),\n",
       " ('Adan', 'Brown', 'F#'),\n",
       " ('Adolph', 'Dalton', 'Dart')]"
      ]
     },
     "execution_count": 26,
     "metadata": {},
     "output_type": "execute_result"
    }
   ],
   "source": [
    "%%sql\n",
    "\n",
    "SELECT first, last, language_name \n",
    "FROM person\n",
    "INNER JOIN person_language ON person.person_id = person_language.person_id\n",
    "INNER JOIN language ON language.language_id = person_language.language_id\n",
    "LIMIT 10;"
   ]
  },
  {
   "cell_type": "markdown",
   "metadata": {},
   "source": [
    "### Set operations "
   ]
  },
  {
   "cell_type": "markdown",
   "metadata": {},
   "source": [
    "```SQL\n",
    "SELECT a, b \n",
    "FROM table1\n",
    "SetOp\n",
    "SELECT a, b \n",
    "FROM table2\n",
    "```\n",
    "\n",
    "wehre SetOp is `INTERSECT`, `EXCEPT`, `UNION` or `UNION ALL`."
   ]
  },
  {
   "cell_type": "markdown",
   "metadata": {},
   "source": [
    "#### Intersection\n",
    "\n",
    "```sql\n",
    "INTERSECT\n",
    "```\n",
    "\n",
    "Alternative using `INNER JOIN`"
   ]
  },
  {
   "cell_type": "markdown",
   "metadata": {},
   "source": [
    "#### Union"
   ]
  },
  {
   "cell_type": "markdown",
   "metadata": {},
   "source": [
    "```SQL\n",
    "UNION\n",
    "UNION ALL (does not eliminate duplicate rows)\n",
    "```"
   ]
  },
  {
   "cell_type": "markdown",
   "metadata": {},
   "source": [
    "#### Difference"
   ]
  },
  {
   "cell_type": "markdown",
   "metadata": {},
   "source": [
    "```SQL\n",
    "EXCEPT\n",
    "```\n",
    "\n",
    "Alternative using `OUTER JOIN` with test for `NULL`"
   ]
  },
  {
   "cell_type": "code",
   "execution_count": 27,
   "metadata": {
    "scrolled": false
   },
   "outputs": [
    {
     "name": "stdout",
     "output_type": "stream",
     "text": [
      "Done.\n",
      "Done.\n"
     ]
    },
    {
     "data": {
      "text/plain": [
       "[]"
      ]
     },
     "execution_count": 27,
     "metadata": {},
     "output_type": "execute_result"
    }
   ],
   "source": [
    "%%sql\n",
    "\n",
    "DROP VIEW IF EXISTS language_view;\n",
    "CREATE VIEW language_view AS\n",
    "SELECT first, last, language_name \n",
    "FROM person\n",
    "INNER JOIN person_language ON person.person_id = person_language.person_id\n",
    "INNER JOIN language ON language.language_id = person_language.language_id\n",
    ";"
   ]
  },
  {
   "cell_type": "code",
   "execution_count": 28,
   "metadata": {},
   "outputs": [
    {
     "name": "stdout",
     "output_type": "stream",
     "text": [
      "Done.\n"
     ]
    },
    {
     "data": {
      "text/html": [
       "<table>\n",
       "    <tr>\n",
       "        <th>first</th>\n",
       "        <th>last</th>\n",
       "        <th>language_name</th>\n",
       "    </tr>\n",
       "    <tr>\n",
       "        <td>Aaron</td>\n",
       "        <td>Alexander</td>\n",
       "        <td>Haskell</td>\n",
       "    </tr>\n",
       "    <tr>\n",
       "        <td>Aaron</td>\n",
       "        <td>Kirby</td>\n",
       "        <td>GNU Octave</td>\n",
       "    </tr>\n",
       "    <tr>\n",
       "        <td>Aaron</td>\n",
       "        <td>Kirby</td>\n",
       "        <td>haXe</td>\n",
       "    </tr>\n",
       "    <tr>\n",
       "        <td>Aaron</td>\n",
       "        <td>Kirby</td>\n",
       "        <td>Falcon</td>\n",
       "    </tr>\n",
       "    <tr>\n",
       "        <td>Abram</td>\n",
       "        <td>Allen</td>\n",
       "        <td>TypeScript</td>\n",
       "    </tr>\n",
       "    <tr>\n",
       "        <td>Abram</td>\n",
       "        <td>Boyer</td>\n",
       "        <td>Io</td>\n",
       "    </tr>\n",
       "    <tr>\n",
       "        <td>Abram</td>\n",
       "        <td>Boyer</td>\n",
       "        <td>Lua</td>\n",
       "    </tr>\n",
       "    <tr>\n",
       "        <td>Abram</td>\n",
       "        <td>Boyer</td>\n",
       "        <td>Falcon</td>\n",
       "    </tr>\n",
       "    <tr>\n",
       "        <td>Adan</td>\n",
       "        <td>Brown</td>\n",
       "        <td>F#</td>\n",
       "    </tr>\n",
       "    <tr>\n",
       "        <td>Adolph</td>\n",
       "        <td>Dalton</td>\n",
       "        <td>Dart</td>\n",
       "    </tr>\n",
       "</table>"
      ],
      "text/plain": [
       "[('Aaron', 'Alexander', 'Haskell'),\n",
       " ('Aaron', 'Kirby', 'GNU Octave'),\n",
       " ('Aaron', 'Kirby', 'haXe'),\n",
       " ('Aaron', 'Kirby', 'Falcon'),\n",
       " ('Abram', 'Allen', 'TypeScript'),\n",
       " ('Abram', 'Boyer', 'Io'),\n",
       " ('Abram', 'Boyer', 'Lua'),\n",
       " ('Abram', 'Boyer', 'Falcon'),\n",
       " ('Adan', 'Brown', 'F#'),\n",
       " ('Adolph', 'Dalton', 'Dart')]"
      ]
     },
     "execution_count": 28,
     "metadata": {},
     "output_type": "execute_result"
    }
   ],
   "source": [
    "%%sql\n",
    "\n",
    "SELECt * \n",
    "FROM language_view \n",
    "LIMIT 10;"
   ]
  },
  {
   "cell_type": "code",
   "execution_count": 29,
   "metadata": {},
   "outputs": [
    {
     "name": "stdout",
     "output_type": "stream",
     "text": [
      "Done.\n"
     ]
    },
    {
     "data": {
      "text/html": [
       "<table>\n",
       "    <tr>\n",
       "        <th>first</th>\n",
       "        <th>last</th>\n",
       "        <th>language_name</th>\n",
       "    </tr>\n",
       "    <tr>\n",
       "        <td>Aaron</td>\n",
       "        <td>Alexander</td>\n",
       "        <td>Haskell</td>\n",
       "    </tr>\n",
       "    <tr>\n",
       "        <td>Andree</td>\n",
       "        <td>Douglas</td>\n",
       "        <td>Haskell</td>\n",
       "    </tr>\n",
       "    <tr>\n",
       "        <td>Arlie</td>\n",
       "        <td>Terrell</td>\n",
       "        <td>Python</td>\n",
       "    </tr>\n",
       "    <tr>\n",
       "        <td>Boyd</td>\n",
       "        <td>Blackwell</td>\n",
       "        <td>Haskell</td>\n",
       "    </tr>\n",
       "    <tr>\n",
       "        <td>Buck</td>\n",
       "        <td>Howe</td>\n",
       "        <td>Haskell</td>\n",
       "    </tr>\n",
       "    <tr>\n",
       "        <td>Carlton</td>\n",
       "        <td>Richard</td>\n",
       "        <td>Haskell</td>\n",
       "    </tr>\n",
       "    <tr>\n",
       "        <td>Carylon</td>\n",
       "        <td>Zamora</td>\n",
       "        <td>Python</td>\n",
       "    </tr>\n",
       "    <tr>\n",
       "        <td>Clarisa</td>\n",
       "        <td>Rodgers</td>\n",
       "        <td>Python</td>\n",
       "    </tr>\n",
       "    <tr>\n",
       "        <td>Dinorah</td>\n",
       "        <td>O&#x27;brien</td>\n",
       "        <td>Haskell</td>\n",
       "    </tr>\n",
       "    <tr>\n",
       "        <td>Dorian</td>\n",
       "        <td>Lloyd</td>\n",
       "        <td>Haskell</td>\n",
       "    </tr>\n",
       "</table>"
      ],
      "text/plain": [
       "[('Aaron', 'Alexander', 'Haskell'),\n",
       " ('Andree', 'Douglas', 'Haskell'),\n",
       " ('Arlie', 'Terrell', 'Python'),\n",
       " ('Boyd', 'Blackwell', 'Haskell'),\n",
       " ('Buck', 'Howe', 'Haskell'),\n",
       " ('Carlton', 'Richard', 'Haskell'),\n",
       " ('Carylon', 'Zamora', 'Python'),\n",
       " ('Clarisa', 'Rodgers', 'Python'),\n",
       " ('Dinorah', \"O'brien\", 'Haskell'),\n",
       " ('Dorian', 'Lloyd', 'Haskell')]"
      ]
     },
     "execution_count": 29,
     "metadata": {},
     "output_type": "execute_result"
    }
   ],
   "source": [
    "%%sql\n",
    "\n",
    "SELECt * \n",
    "FROM language_view \n",
    "WHERE language_name = 'Python'\n",
    "UNION\n",
    "SELECt * \n",
    "FROM language_view \n",
    "WHERE language_name = 'Haskell'\n",
    "LIMIT 10;"
   ]
  },
  {
   "cell_type": "code",
   "execution_count": 30,
   "metadata": {},
   "outputs": [
    {
     "name": "stdout",
     "output_type": "stream",
     "text": [
      "Done.\n"
     ]
    },
    {
     "data": {
      "text/html": [
       "<table>\n",
       "    <tr>\n",
       "        <th>first</th>\n",
       "        <th>last</th>\n",
       "        <th>language_name</th>\n",
       "    </tr>\n",
       "    <tr>\n",
       "        <td>Aaron</td>\n",
       "        <td>Alexander</td>\n",
       "        <td>Haskell</td>\n",
       "    </tr>\n",
       "    <tr>\n",
       "        <td>Andree</td>\n",
       "        <td>Douglas</td>\n",
       "        <td>Haskell</td>\n",
       "    </tr>\n",
       "    <tr>\n",
       "        <td>Arlie</td>\n",
       "        <td>Terrell</td>\n",
       "        <td>Python</td>\n",
       "    </tr>\n",
       "    <tr>\n",
       "        <td>Boyd</td>\n",
       "        <td>Blackwell</td>\n",
       "        <td>Haskell</td>\n",
       "    </tr>\n",
       "    <tr>\n",
       "        <td>Buck</td>\n",
       "        <td>Howe</td>\n",
       "        <td>Haskell</td>\n",
       "    </tr>\n",
       "    <tr>\n",
       "        <td>Carlton</td>\n",
       "        <td>Richard</td>\n",
       "        <td>Haskell</td>\n",
       "    </tr>\n",
       "    <tr>\n",
       "        <td>Carylon</td>\n",
       "        <td>Zamora</td>\n",
       "        <td>Python</td>\n",
       "    </tr>\n",
       "    <tr>\n",
       "        <td>Clarisa</td>\n",
       "        <td>Rodgers</td>\n",
       "        <td>Python</td>\n",
       "    </tr>\n",
       "    <tr>\n",
       "        <td>Dinorah</td>\n",
       "        <td>O&#x27;brien</td>\n",
       "        <td>Haskell</td>\n",
       "    </tr>\n",
       "    <tr>\n",
       "        <td>Dorian</td>\n",
       "        <td>Lloyd</td>\n",
       "        <td>Haskell</td>\n",
       "    </tr>\n",
       "</table>"
      ],
      "text/plain": [
       "[('Aaron', 'Alexander', 'Haskell'),\n",
       " ('Andree', 'Douglas', 'Haskell'),\n",
       " ('Arlie', 'Terrell', 'Python'),\n",
       " ('Boyd', 'Blackwell', 'Haskell'),\n",
       " ('Buck', 'Howe', 'Haskell'),\n",
       " ('Carlton', 'Richard', 'Haskell'),\n",
       " ('Carylon', 'Zamora', 'Python'),\n",
       " ('Clarisa', 'Rodgers', 'Python'),\n",
       " ('Dinorah', \"O'brien\", 'Haskell'),\n",
       " ('Dorian', 'Lloyd', 'Haskell')]"
      ]
     },
     "execution_count": 30,
     "metadata": {},
     "output_type": "execute_result"
    }
   ],
   "source": [
    "%%sql\n",
    "\n",
    "SELECt * \n",
    "FROM language_view \n",
    "WHERE language_name IN ('Python', 'Haskell')\n",
    "ORDER BY first\n",
    "LIMIT 10;"
   ]
  },
  {
   "cell_type": "markdown",
   "metadata": {},
   "source": [
    "### Aggregate functions"
   ]
  },
  {
   "cell_type": "markdown",
   "metadata": {},
   "source": [
    "```SQL\n",
    "COUNT\n",
    "MIN\n",
    "MAX\n",
    "AVG\n",
    "SUM\n",
    "```"
   ]
  },
  {
   "cell_type": "code",
   "execution_count": 31,
   "metadata": {},
   "outputs": [
    {
     "name": "stdout",
     "output_type": "stream",
     "text": [
      "Done.\n"
     ]
    },
    {
     "data": {
      "text/html": [
       "<table>\n",
       "    <tr>\n",
       "        <th>count(language_name)</th>\n",
       "    </tr>\n",
       "    <tr>\n",
       "        <td>2297</td>\n",
       "    </tr>\n",
       "</table>"
      ],
      "text/plain": [
       "[(2297,)]"
      ]
     },
     "execution_count": 31,
     "metadata": {},
     "output_type": "execute_result"
    }
   ],
   "source": [
    "%%sql\n",
    "\n",
    "SELECT count(language_name) \n",
    "FROM language_view;"
   ]
  },
  {
   "cell_type": "markdown",
   "metadata": {},
   "source": [
    "### Grouping"
   ]
  },
  {
   "cell_type": "markdown",
   "metadata": {},
   "source": [
    "```SQL\n",
    "SELECT a, MIN(b) AS min_b, MAX(b) AS max_b, AVG(b) AS mean_b\n",
    "FROM table\n",
    "GROUP BY a\n",
    "HAVING mean_b > 5\n",
    "```"
   ]
  },
  {
   "cell_type": "markdown",
   "metadata": {},
   "source": [
    "The `HAVING` is analagous to the `WHERE` clause, but filters on aggregate conditions. Note that the `WHERE` statement filters rows BEFORE the grouping is done."
   ]
  },
  {
   "cell_type": "markdown",
   "metadata": {},
   "source": [
    "Note: Any variable in the SELECT part that is not an aggregte function needs to be in the GROUP BY part.\n",
    "\n",
    "```SQL\n",
    "SELECT a, b, c, COUNT(d)\n",
    "FROM table\n",
    "GROUP BY a, b, c\n",
    "```"
   ]
  },
  {
   "cell_type": "code",
   "execution_count": 32,
   "metadata": {},
   "outputs": [
    {
     "name": "stdout",
     "output_type": "stream",
     "text": [
      "Done.\n"
     ]
    },
    {
     "data": {
      "text/html": [
       "<table>\n",
       "    <tr>\n",
       "        <th>language_name</th>\n",
       "        <th>n</th>\n",
       "    </tr>\n",
       "    <tr>\n",
       "        <td>AutoIt</td>\n",
       "        <td>61</td>\n",
       "    </tr>\n",
       "    <tr>\n",
       "        <td>Bash</td>\n",
       "        <td>48</td>\n",
       "    </tr>\n",
       "    <tr>\n",
       "        <td>ECMAScript</td>\n",
       "        <td>48</td>\n",
       "    </tr>\n",
       "    <tr>\n",
       "        <td>GNU Octave</td>\n",
       "        <td>49</td>\n",
       "    </tr>\n",
       "    <tr>\n",
       "        <td>JavaScript</td>\n",
       "        <td>48</td>\n",
       "    </tr>\n",
       "    <tr>\n",
       "        <td>Perl</td>\n",
       "        <td>55</td>\n",
       "    </tr>\n",
       "    <tr>\n",
       "        <td>PowerShell</td>\n",
       "        <td>50</td>\n",
       "    </tr>\n",
       "    <tr>\n",
       "        <td>Prolog</td>\n",
       "        <td>50</td>\n",
       "    </tr>\n",
       "</table>"
      ],
      "text/plain": [
       "[('AutoIt', 61),\n",
       " ('Bash', 48),\n",
       " ('ECMAScript', 48),\n",
       " ('GNU Octave', 49),\n",
       " ('JavaScript', 48),\n",
       " ('Perl', 55),\n",
       " ('PowerShell', 50),\n",
       " ('Prolog', 50)]"
      ]
     },
     "execution_count": 32,
     "metadata": {},
     "output_type": "execute_result"
    }
   ],
   "source": [
    "%%sql\n",
    "\n",
    "SELECT language_name, count(*) AS n\n",
    "FROM language_view\n",
    "GROUP BY language_name\n",
    "HAVING n > 45;"
   ]
  },
  {
   "cell_type": "markdown",
   "metadata": {},
   "source": [
    "### The CASE switch"
   ]
  },
  {
   "cell_type": "markdown",
   "metadata": {},
   "source": [
    "#### Simple CASE"
   ]
  },
  {
   "cell_type": "markdown",
   "metadata": {},
   "source": [
    "```SQL\n",
    "SELECT name,\n",
    "(CASE sex \n",
    " WHEN 'M' THEN 1.5*dose\n",
    " WHEN 'F' THEN dose\n",
    " END) as adjusted_dose\n",
    "FROM table\n",
    "```"
   ]
  },
  {
   "cell_type": "markdown",
   "metadata": {},
   "source": [
    "#### Searched CASE"
   ]
  },
  {
   "cell_type": "markdown",
   "metadata": {},
   "source": [
    "```SQL\n",
    "SELECT name,\n",
    "(CASE  \n",
    " WHEN sex = 'M' THEN 1.5*dose\n",
    " WHEN sex = 'F' THEN dose\n",
    " END) as adjusted_dose\n",
    "FROM table\n",
    "```"
   ]
  },
  {
   "cell_type": "code",
   "execution_count": 33,
   "metadata": {},
   "outputs": [
    {
     "name": "stdout",
     "output_type": "stream",
     "text": [
      "Done.\n"
     ]
    },
    {
     "data": {
      "text/html": [
       "<table>\n",
       "    <tr>\n",
       "        <th>first</th>\n",
       "        <th>last</th>\n",
       "        <th>language_name</th>\n",
       "        <th>outcome</th>\n",
       "    </tr>\n",
       "    <tr>\n",
       "        <td>Aaron</td>\n",
       "        <td>Alexander</td>\n",
       "        <td>Haskell</td>\n",
       "        <td>Hire</td>\n",
       "    </tr>\n",
       "    <tr>\n",
       "        <td>Aaron</td>\n",
       "        <td>Kirby</td>\n",
       "        <td>GNU Octave</td>\n",
       "        <td>FIRE</td>\n",
       "    </tr>\n",
       "    <tr>\n",
       "        <td>Aaron</td>\n",
       "        <td>Kirby</td>\n",
       "        <td>haXe</td>\n",
       "        <td>Hire</td>\n",
       "    </tr>\n",
       "    <tr>\n",
       "        <td>Aaron</td>\n",
       "        <td>Kirby</td>\n",
       "        <td>Falcon</td>\n",
       "        <td>FIRE</td>\n",
       "    </tr>\n",
       "    <tr>\n",
       "        <td>Abram</td>\n",
       "        <td>Allen</td>\n",
       "        <td>TypeScript</td>\n",
       "        <td>FIRE</td>\n",
       "    </tr>\n",
       "    <tr>\n",
       "        <td>Abram</td>\n",
       "        <td>Boyer</td>\n",
       "        <td>Io</td>\n",
       "        <td>FIRE</td>\n",
       "    </tr>\n",
       "    <tr>\n",
       "        <td>Abram</td>\n",
       "        <td>Boyer</td>\n",
       "        <td>Lua</td>\n",
       "        <td>FIRE</td>\n",
       "    </tr>\n",
       "    <tr>\n",
       "        <td>Abram</td>\n",
       "        <td>Boyer</td>\n",
       "        <td>Falcon</td>\n",
       "        <td>FIRE</td>\n",
       "    </tr>\n",
       "    <tr>\n",
       "        <td>Adan</td>\n",
       "        <td>Brown</td>\n",
       "        <td>F#</td>\n",
       "        <td>FIRE</td>\n",
       "    </tr>\n",
       "    <tr>\n",
       "        <td>Adolph</td>\n",
       "        <td>Dalton</td>\n",
       "        <td>Dart</td>\n",
       "        <td>FIRE</td>\n",
       "    </tr>\n",
       "</table>"
      ],
      "text/plain": [
       "[('Aaron', 'Alexander', 'Haskell', 'Hire'),\n",
       " ('Aaron', 'Kirby', 'GNU Octave', 'FIRE'),\n",
       " ('Aaron', 'Kirby', 'haXe', 'Hire'),\n",
       " ('Aaron', 'Kirby', 'Falcon', 'FIRE'),\n",
       " ('Abram', 'Allen', 'TypeScript', 'FIRE'),\n",
       " ('Abram', 'Boyer', 'Io', 'FIRE'),\n",
       " ('Abram', 'Boyer', 'Lua', 'FIRE'),\n",
       " ('Abram', 'Boyer', 'Falcon', 'FIRE'),\n",
       " ('Adan', 'Brown', 'F#', 'FIRE'),\n",
       " ('Adolph', 'Dalton', 'Dart', 'FIRE')]"
      ]
     },
     "execution_count": 33,
     "metadata": {},
     "output_type": "execute_result"
    }
   ],
   "source": [
    "%%sql\n",
    "\n",
    "SELECT first, last, language_name,\n",
    "(CASE\n",
    "    WHEN language_name LIKE 'H%' THEN 'Hire'\n",
    "    ELSE 'FIRE'\n",
    "END\n",
    ") AS outcome\n",
    "FROM language_view\n",
    "LIMIT 10;"
   ]
  },
  {
   "cell_type": "markdown",
   "metadata": {},
   "source": [
    "## Exercises"
   ]
  },
  {
   "cell_type": "markdown",
   "metadata": {},
   "source": [
    "1. Find the youngest and oldest faculty member of each gender."
   ]
  },
  {
   "cell_type": "code",
   "execution_count": null,
   "metadata": {},
   "outputs": [],
   "source": []
  },
  {
   "cell_type": "markdown",
   "metadata": {},
   "source": [
    "2. Find the median age of the faculty members who know Python.\n",
    "\n",
    "As SQLite3 does not provide a median function, you can create a User Defined Function (UDF) to do this. See [documentation](https://docs.python.org/2/library/sqlite3.html#sqlite3.Connection.create_function)."
   ]
  },
  {
   "cell_type": "code",
   "execution_count": null,
   "metadata": {},
   "outputs": [],
   "source": []
  },
  {
   "cell_type": "markdown",
   "metadata": {},
   "source": [
    "3. Arrange countries by the average age of faculty in descending order. Countries are only included in the table if there are at least 3 faculty members from that country."
   ]
  },
  {
   "cell_type": "code",
   "execution_count": null,
   "metadata": {},
   "outputs": [],
   "source": []
  },
  {
   "cell_type": "markdown",
   "metadata": {},
   "source": [
    "4. Which country has the most highest average body mass index (BMII) among the faculty? Recall that BMI is weight (kg) / (height (m))^2."
   ]
  },
  {
   "cell_type": "code",
   "execution_count": null,
   "metadata": {},
   "outputs": [],
   "source": []
  },
  {
   "cell_type": "markdown",
   "metadata": {},
   "source": [
    "5. Do obese faculty (BMI > 30) know more languages on average than non-obese faculty?"
   ]
  },
  {
   "cell_type": "code",
   "execution_count": null,
   "metadata": {},
   "outputs": [],
   "source": []
  }
 ],
 "metadata": {
  "kernelspec": {
   "display_name": "Python 3",
   "language": "python",
   "name": "python3"
  },
  "language_info": {
   "codemirror_mode": {
    "name": "ipython",
    "version": 3
   },
   "file_extension": ".py",
   "mimetype": "text/x-python",
   "name": "python",
   "nbconvert_exporter": "python",
   "pygments_lexer": "ipython3",
   "version": "3.6.5"
  }
 },
 "nbformat": 4,
 "nbformat_minor": 2
}
