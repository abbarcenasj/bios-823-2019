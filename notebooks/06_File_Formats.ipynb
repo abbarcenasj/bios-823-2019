{
 "cells": [
  {
   "cell_type": "markdown",
   "metadata": {},
   "source": [
    "# File formats\n",
    "\n",
    "There are many different file formats in widespread use within data science. In this lecture, we will review common file formats and their trade-offs, and how to choose an appropriate file format. We will also review the mechanics of reading/parsing different file formats, and how to write to them."
   ]
  },
  {
   "cell_type": "code",
   "execution_count": 229,
   "metadata": {},
   "outputs": [],
   "source": [
    "import datetime\n",
    "import decimal\n",
    "import xml.etree.cElementTree as ET\n",
    "\n",
    "import numpy as np\n",
    "import pandas as pd\n",
    "import h5py\n",
    "from faker import Faker\n",
    "import simplejson\n",
    "from json2xml import json2xml, readfromjson, readfromstring\n",
    "import fastavro \n",
    "from fastavro import json_writer, json_reader, writer, reader, parse_schema\n",
    "from rec_avro import to_rec_avro_destructive, from_rec_avro_destructive, rec_avro_schema\n",
    "import fastparquet"
   ]
  },
  {
   "cell_type": "code",
   "execution_count": 31,
   "metadata": {},
   "outputs": [],
   "source": [
    "import warnings\n",
    "warnings.simplefilter('ignore', pd.errors.PerformanceWarning)"
   ]
  },
  {
   "cell_type": "markdown",
   "metadata": {},
   "source": [
    "## Reading data from different file formats"
   ]
  },
  {
   "cell_type": "markdown",
   "metadata": {},
   "source": [
    "### CSV"
   ]
  },
  {
   "cell_type": "markdown",
   "metadata": {},
   "source": [
    "#### When the CSV file can be read as is"
   ]
  },
  {
   "cell_type": "code",
   "execution_count": 12,
   "metadata": {},
   "outputs": [],
   "source": [
    "df = pd.read_csv('data/profiles.csv')"
   ]
  },
  {
   "cell_type": "code",
   "execution_count": 32,
   "metadata": {},
   "outputs": [
    {
     "data": {
      "text/html": [
       "<div>\n",
       "<style scoped>\n",
       "    .dataframe tbody tr th:only-of-type {\n",
       "        vertical-align: middle;\n",
       "    }\n",
       "\n",
       "    .dataframe tbody tr th {\n",
       "        vertical-align: top;\n",
       "    }\n",
       "\n",
       "    .dataframe thead th {\n",
       "        text-align: right;\n",
       "    }\n",
       "</style>\n",
       "<table border=\"1\" class=\"dataframe\">\n",
       "  <thead>\n",
       "    <tr style=\"text-align: right;\">\n",
       "      <th></th>\n",
       "      <th>job</th>\n",
       "      <th>company</th>\n",
       "      <th>ssn</th>\n",
       "      <th>residence</th>\n",
       "      <th>current_location</th>\n",
       "      <th>blood_group</th>\n",
       "      <th>website</th>\n",
       "      <th>username</th>\n",
       "      <th>name</th>\n",
       "      <th>sex</th>\n",
       "      <th>address</th>\n",
       "      <th>mail</th>\n",
       "      <th>birthdate</th>\n",
       "    </tr>\n",
       "  </thead>\n",
       "  <tbody>\n",
       "    <tr>\n",
       "      <td>0</td>\n",
       "      <td>Research scientist (physical sciences)</td>\n",
       "      <td>آل عواض, آل سلطان and آل مقطة</td>\n",
       "      <td>113-90-3545</td>\n",
       "      <td>456 سرحان Inlet Apt. 218\\nEast سجى, WV 44739</td>\n",
       "      <td>(Decimal('24.333449'), Decimal('-31.313933'))</td>\n",
       "      <td>AB+</td>\n",
       "      <td>['https://lhkyr-al.com/', 'http://al.com/']</td>\n",
       "      <td>mhnhrth</td>\n",
       "      <td>الأستاذة أسيل حجار</td>\n",
       "      <td>F</td>\n",
       "      <td>1063 داوود Stravenue Suite 188\\nSouth ريتالsta...</td>\n",
       "      <td>alqyl@yahoo.com</td>\n",
       "      <td>1965-05-22</td>\n",
       "    </tr>\n",
       "  </tbody>\n",
       "</table>\n",
       "</div>"
      ],
      "text/plain": [
       "                                      job                        company  \\\n",
       "0  Research scientist (physical sciences)  آل عواض, آل سلطان and آل مقطة   \n",
       "\n",
       "           ssn                                     residence  \\\n",
       "0  113-90-3545  456 سرحان Inlet Apt. 218\\nEast سجى, WV 44739   \n",
       "\n",
       "                                current_location blood_group  \\\n",
       "0  (Decimal('24.333449'), Decimal('-31.313933'))         AB+   \n",
       "\n",
       "                                       website username                name  \\\n",
       "0  ['https://lhkyr-al.com/', 'http://al.com/']  mhnhrth  الأستاذة أسيل حجار   \n",
       "\n",
       "  sex                                            address             mail  \\\n",
       "0   F  1063 داوود Stravenue Suite 188\\nSouth ريتالsta...  alqyl@yahoo.com   \n",
       "\n",
       "    birthdate  \n",
       "0  1965-05-22  "
      ]
     },
     "execution_count": 32,
     "metadata": {},
     "output_type": "execute_result"
    }
   ],
   "source": [
    "df.head(1)"
   ]
  },
  {
   "cell_type": "code",
   "execution_count": 31,
   "metadata": {},
   "outputs": [
    {
     "data": {
      "text/plain": [
       "job                            Research scientist (physical sciences)\n",
       "company                                 آل عواض, آل سلطان and آل مقطة\n",
       "ssn                                                       113-90-3545\n",
       "residence                456 سرحان Inlet Apt. 218\\nEast سجى, WV 44739\n",
       "current_location        (Decimal('24.333449'), Decimal('-31.313933'))\n",
       "blood_group                                                       AB+\n",
       "website                   ['https://lhkyr-al.com/', 'http://al.com/']\n",
       "username                                                      mhnhrth\n",
       "name                                               الأستاذة أسيل حجار\n",
       "sex                                                                 F\n",
       "address             1063 داوود Stravenue Suite 188\\nSouth ريتالsta...\n",
       "mail                                                  alqyl@yahoo.com\n",
       "birthdate                                                  1965-05-22\n",
       "Name: 0, dtype: object"
      ]
     },
     "execution_count": 31,
     "metadata": {},
     "output_type": "execute_result"
    }
   ],
   "source": [
    "df.loc[0]"
   ]
  },
  {
   "cell_type": "markdown",
   "metadata": {},
   "source": [
    "#### When scrubbing of rows may be needed"
   ]
  },
  {
   "cell_type": "code",
   "execution_count": 2,
   "metadata": {},
   "outputs": [],
   "source": [
    "import csv"
   ]
  },
  {
   "cell_type": "code",
   "execution_count": 16,
   "metadata": {},
   "outputs": [],
   "source": [
    "rows = []\n",
    "with open('data/profiles.csv') as f:\n",
    "    reader = csv.reader(f)\n",
    "    for row in reader:\n",
    "        rows.append(row)"
   ]
  },
  {
   "cell_type": "code",
   "execution_count": 27,
   "metadata": {},
   "outputs": [
    {
     "data": {
      "text/plain": [
       "[13, 13, 13, 13]"
      ]
     },
     "execution_count": 27,
     "metadata": {},
     "output_type": "execute_result"
    }
   ],
   "source": [
    "list(map(len, rows))"
   ]
  },
  {
   "cell_type": "code",
   "execution_count": 28,
   "metadata": {},
   "outputs": [
    {
     "data": {
      "text/plain": [
       "[['job',\n",
       "  'company',\n",
       "  'ssn',\n",
       "  'residence',\n",
       "  'current_location',\n",
       "  'blood_group',\n",
       "  'website',\n",
       "  'username',\n",
       "  'name',\n",
       "  'sex',\n",
       "  'address',\n",
       "  'mail',\n",
       "  'birthdate'],\n",
       " ['Research scientist (physical sciences)',\n",
       "  'آل عواض, آل سلطان and آل مقطة',\n",
       "  '113-90-3545',\n",
       "  '456 سرحان Inlet Apt. 218\\nEast سجى, WV 44739',\n",
       "  \"(Decimal('24.333449'), Decimal('-31.313933'))\",\n",
       "  'AB+',\n",
       "  \"['https://lhkyr-al.com/', 'http://al.com/']\",\n",
       "  'mhnhrth',\n",
       "  'الأستاذة أسيل حجار',\n",
       "  'F',\n",
       "  '1063 داوود Stravenue Suite 188\\nSouth ريتالstad, NE 15082',\n",
       "  'alqyl@yahoo.com',\n",
       "  '1965-05-22']]"
      ]
     },
     "execution_count": 28,
     "metadata": {},
     "output_type": "execute_result"
    }
   ],
   "source": [
    "rows[:2]"
   ]
  },
  {
   "cell_type": "code",
   "execution_count": 45,
   "metadata": {},
   "outputs": [],
   "source": [
    "df = pd.DataFrame(rows[1:], columns=rows[0])"
   ]
  },
  {
   "cell_type": "code",
   "execution_count": 46,
   "metadata": {},
   "outputs": [
    {
     "data": {
      "text/html": [
       "<div>\n",
       "<style scoped>\n",
       "    .dataframe tbody tr th:only-of-type {\n",
       "        vertical-align: middle;\n",
       "    }\n",
       "\n",
       "    .dataframe tbody tr th {\n",
       "        vertical-align: top;\n",
       "    }\n",
       "\n",
       "    .dataframe thead th {\n",
       "        text-align: right;\n",
       "    }\n",
       "</style>\n",
       "<table border=\"1\" class=\"dataframe\">\n",
       "  <thead>\n",
       "    <tr style=\"text-align: right;\">\n",
       "      <th></th>\n",
       "      <th>job</th>\n",
       "      <th>company</th>\n",
       "      <th>ssn</th>\n",
       "      <th>residence</th>\n",
       "      <th>current_location</th>\n",
       "      <th>blood_group</th>\n",
       "      <th>website</th>\n",
       "      <th>username</th>\n",
       "      <th>name</th>\n",
       "      <th>sex</th>\n",
       "      <th>address</th>\n",
       "      <th>mail</th>\n",
       "      <th>birthdate</th>\n",
       "    </tr>\n",
       "  </thead>\n",
       "  <tbody>\n",
       "    <tr>\n",
       "      <td>0</td>\n",
       "      <td>Research scientist (physical sciences)</td>\n",
       "      <td>آل عواض, آل سلطان and آل مقطة</td>\n",
       "      <td>113-90-3545</td>\n",
       "      <td>456 سرحان Inlet Apt. 218\\nEast سجى, WV 44739</td>\n",
       "      <td>(Decimal('24.333449'), Decimal('-31.313933'))</td>\n",
       "      <td>AB+</td>\n",
       "      <td>['https://lhkyr-al.com/', 'http://al.com/']</td>\n",
       "      <td>mhnhrth</td>\n",
       "      <td>الأستاذة أسيل حجار</td>\n",
       "      <td>F</td>\n",
       "      <td>1063 داوود Stravenue Suite 188\\nSouth ريتالsta...</td>\n",
       "      <td>alqyl@yahoo.com</td>\n",
       "      <td>1965-05-22</td>\n",
       "    </tr>\n",
       "  </tbody>\n",
       "</table>\n",
       "</div>"
      ],
      "text/plain": [
       "                                      job                        company  \\\n",
       "0  Research scientist (physical sciences)  آل عواض, آل سلطان and آل مقطة   \n",
       "\n",
       "           ssn                                     residence  \\\n",
       "0  113-90-3545  456 سرحان Inlet Apt. 218\\nEast سجى, WV 44739   \n",
       "\n",
       "                                current_location blood_group  \\\n",
       "0  (Decimal('24.333449'), Decimal('-31.313933'))         AB+   \n",
       "\n",
       "                                       website username                name  \\\n",
       "0  ['https://lhkyr-al.com/', 'http://al.com/']  mhnhrth  الأستاذة أسيل حجار   \n",
       "\n",
       "  sex                                            address             mail  \\\n",
       "0   F  1063 داوود Stravenue Suite 188\\nSouth ريتالsta...  alqyl@yahoo.com   \n",
       "\n",
       "    birthdate  \n",
       "0  1965-05-22  "
      ]
     },
     "execution_count": 46,
     "metadata": {},
     "output_type": "execute_result"
    }
   ],
   "source": [
    "df.head(1)"
   ]
  },
  {
   "cell_type": "markdown",
   "metadata": {},
   "source": [
    "### Tab-delimited\n",
    "\n",
    "Same as CSV, just change separator."
   ]
  },
  {
   "cell_type": "markdown",
   "metadata": {},
   "source": [
    "#### Direct reading into DataFrame"
   ]
  },
  {
   "cell_type": "code",
   "execution_count": 29,
   "metadata": {},
   "outputs": [],
   "source": [
    "df = pd.read_csv('data/profiles.txt', sep='\\t')"
   ]
  },
  {
   "cell_type": "code",
   "execution_count": 30,
   "metadata": {},
   "outputs": [
    {
     "data": {
      "text/html": [
       "<div>\n",
       "<style scoped>\n",
       "    .dataframe tbody tr th:only-of-type {\n",
       "        vertical-align: middle;\n",
       "    }\n",
       "\n",
       "    .dataframe tbody tr th {\n",
       "        vertical-align: top;\n",
       "    }\n",
       "\n",
       "    .dataframe thead th {\n",
       "        text-align: right;\n",
       "    }\n",
       "</style>\n",
       "<table border=\"1\" class=\"dataframe\">\n",
       "  <thead>\n",
       "    <tr style=\"text-align: right;\">\n",
       "      <th></th>\n",
       "      <th>job</th>\n",
       "      <th>company</th>\n",
       "      <th>ssn</th>\n",
       "      <th>residence</th>\n",
       "      <th>current_location</th>\n",
       "      <th>blood_group</th>\n",
       "      <th>website</th>\n",
       "      <th>username</th>\n",
       "      <th>name</th>\n",
       "      <th>sex</th>\n",
       "      <th>address</th>\n",
       "      <th>mail</th>\n",
       "      <th>birthdate</th>\n",
       "    </tr>\n",
       "  </thead>\n",
       "  <tbody>\n",
       "    <tr>\n",
       "      <td>0</td>\n",
       "      <td>Research scientist (physical sciences)</td>\n",
       "      <td>آل عواض, آل سلطان and آل مقطة</td>\n",
       "      <td>113-90-3545</td>\n",
       "      <td>456 سرحان Inlet Apt. 218\\nEast سجى, WV 44739</td>\n",
       "      <td>(Decimal('24.333449'), Decimal('-31.313933'))</td>\n",
       "      <td>AB+</td>\n",
       "      <td>['https://lhkyr-al.com/', 'http://al.com/']</td>\n",
       "      <td>mhnhrth</td>\n",
       "      <td>الأستاذة أسيل حجار</td>\n",
       "      <td>F</td>\n",
       "      <td>1063 داوود Stravenue Suite 188\\nSouth ريتالsta...</td>\n",
       "      <td>alqyl@yahoo.com</td>\n",
       "      <td>1965-05-22</td>\n",
       "    </tr>\n",
       "    <tr>\n",
       "      <td>1</td>\n",
       "      <td>Surveyor, building control</td>\n",
       "      <td>Mitchell, Carroll and Cooper</td>\n",
       "      <td>055-43-6596</td>\n",
       "      <td>21433 Lucero Way Apt. 512\\nErinberg, FL 46113</td>\n",
       "      <td>(Decimal('45.5171425'), Decimal('-68.251421'))</td>\n",
       "      <td>A-</td>\n",
       "      <td>['https://www.levine.com/']</td>\n",
       "      <td>lboyd</td>\n",
       "      <td>Kelly Miller</td>\n",
       "      <td>F</td>\n",
       "      <td>9516 Thomas Falls\\nWest Randall, OR 31568</td>\n",
       "      <td>xrichardson@yahoo.com</td>\n",
       "      <td>1903-11-22</td>\n",
       "    </tr>\n",
       "    <tr>\n",
       "      <td>2</td>\n",
       "      <td>可靠度工程师</td>\n",
       "      <td>图龙信息传媒有限公司</td>\n",
       "      <td>350212197208264282</td>\n",
       "      <td>北京市柳县永川昆明路D座 447897</td>\n",
       "      <td>(Decimal('-63.7154915'), Decimal('119.882111'))</td>\n",
       "      <td>AB+</td>\n",
       "      <td>['https://www.uj.com/', 'http://www.lei.cn/', ...</td>\n",
       "      <td>yinjun</td>\n",
       "      <td>王雷</td>\n",
       "      <td>M</td>\n",
       "      <td>甘肃省宁德市长寿崔路S座 747320</td>\n",
       "      <td>weiqin@gmail.com</td>\n",
       "      <td>2014-12-29</td>\n",
       "    </tr>\n",
       "  </tbody>\n",
       "</table>\n",
       "</div>"
      ],
      "text/plain": [
       "                                      job                        company  \\\n",
       "0  Research scientist (physical sciences)  آل عواض, آل سلطان and آل مقطة   \n",
       "1              Surveyor, building control   Mitchell, Carroll and Cooper   \n",
       "2                                  可靠度工程师                     图龙信息传媒有限公司   \n",
       "\n",
       "                  ssn                                      residence  \\\n",
       "0         113-90-3545   456 سرحان Inlet Apt. 218\\nEast سجى, WV 44739   \n",
       "1         055-43-6596  21433 Lucero Way Apt. 512\\nErinberg, FL 46113   \n",
       "2  350212197208264282                            北京市柳县永川昆明路D座 447897   \n",
       "\n",
       "                                  current_location blood_group  \\\n",
       "0    (Decimal('24.333449'), Decimal('-31.313933'))         AB+   \n",
       "1   (Decimal('45.5171425'), Decimal('-68.251421'))          A-   \n",
       "2  (Decimal('-63.7154915'), Decimal('119.882111'))         AB+   \n",
       "\n",
       "                                             website username  \\\n",
       "0        ['https://lhkyr-al.com/', 'http://al.com/']  mhnhrth   \n",
       "1                        ['https://www.levine.com/']    lboyd   \n",
       "2  ['https://www.uj.com/', 'http://www.lei.cn/', ...   yinjun   \n",
       "\n",
       "                 name sex                                            address  \\\n",
       "0  الأستاذة أسيل حجار   F  1063 داوود Stravenue Suite 188\\nSouth ريتالsta...   \n",
       "1        Kelly Miller   F          9516 Thomas Falls\\nWest Randall, OR 31568   \n",
       "2                  王雷   M                                甘肃省宁德市长寿崔路S座 747320   \n",
       "\n",
       "                    mail   birthdate  \n",
       "0        alqyl@yahoo.com  1965-05-22  \n",
       "1  xrichardson@yahoo.com  1903-11-22  \n",
       "2       weiqin@gmail.com  2014-12-29  "
      ]
     },
     "execution_count": 30,
     "metadata": {},
     "output_type": "execute_result"
    }
   ],
   "source": [
    "df.head()"
   ]
  },
  {
   "cell_type": "markdown",
   "metadata": {},
   "source": [
    "#### Row by row processing"
   ]
  },
  {
   "cell_type": "code",
   "execution_count": 24,
   "metadata": {},
   "outputs": [],
   "source": [
    "rows = []\n",
    "with open('data/profiles.txt') as f:\n",
    "    reader = csv.reader(f, delimiter='\\t')\n",
    "    for row in reader:\n",
    "        rows.append(row)"
   ]
  },
  {
   "cell_type": "code",
   "execution_count": 26,
   "metadata": {},
   "outputs": [
    {
     "data": {
      "text/plain": [
       "[13, 13, 13, 13]"
      ]
     },
     "execution_count": 26,
     "metadata": {},
     "output_type": "execute_result"
    }
   ],
   "source": [
    "list(map(len, rows))"
   ]
  },
  {
   "cell_type": "markdown",
   "metadata": {},
   "source": [
    "### JSON\n",
    "\n",
    "JSON is the most popular format for sharing information over the web. Most data retrieval APIs will return JSON.m"
   ]
  },
  {
   "cell_type": "code",
   "execution_count": 55,
   "metadata": {},
   "outputs": [],
   "source": [
    "import json"
   ]
  },
  {
   "cell_type": "code",
   "execution_count": 66,
   "metadata": {},
   "outputs": [],
   "source": [
    "with open('data/profiles.json') as f:\n",
    "    profiles = json.load(f)"
   ]
  },
  {
   "cell_type": "code",
   "execution_count": 67,
   "metadata": {},
   "outputs": [
    {
     "data": {
      "text/plain": [
       "3"
      ]
     },
     "execution_count": 67,
     "metadata": {},
     "output_type": "execute_result"
    }
   ],
   "source": [
    "len(profiles)"
   ]
  },
  {
   "cell_type": "code",
   "execution_count": 68,
   "metadata": {},
   "outputs": [
    {
     "data": {
      "text/plain": [
       "{'job': 'Research scientist (physical sciences)',\n",
       " 'company': 'آل عواض, آل سلطان and آل مقطة',\n",
       " 'ssn': '113-90-3545',\n",
       " 'residence': '456 سرحان Inlet Apt. 218\\nEast سجى, WV 44739',\n",
       " 'current_location': [24.333449, -31.313933],\n",
       " 'blood_group': 'AB+',\n",
       " 'website': ['https://lhkyr-al.com/', 'http://al.com/'],\n",
       " 'username': 'mhnhrth',\n",
       " 'name': 'الأستاذة أسيل حجار',\n",
       " 'sex': 'F',\n",
       " 'address': '1063 داوود Stravenue Suite 188\\nSouth ريتالstad, NE 15082',\n",
       " 'mail': 'alqyl@yahoo.com',\n",
       " 'birthdate': None}"
      ]
     },
     "execution_count": 68,
     "metadata": {},
     "output_type": "execute_result"
    }
   ],
   "source": [
    "profiles[0]"
   ]
  },
  {
   "cell_type": "markdown",
   "metadata": {},
   "source": [
    "#### Using a REST API to retrieve JSON data"
   ]
  },
  {
   "cell_type": "code",
   "execution_count": 54,
   "metadata": {},
   "outputs": [
    {
     "name": "stderr",
     "output_type": "stream",
     "text": [
      "  % Total    % Received % Xferd  Average Speed   Time    Time     Time  Current\n",
      "                                 Dload  Upload   Total   Spent    Left  Speed\n",
      "\r",
      "  0     0    0     0    0     0      0      0 --:--:-- --:--:-- --:--:--     0\r",
      "100  185k    0  185k    0     0  1428k      0 --:--:-- --:--:-- --:--:-- 1430k\n"
     ]
    }
   ],
   "source": [
    "%%bash\n",
    "\n",
    "curl -o data/pokemon.json https://pokeapi.co/api/v2/pokemon/23"
   ]
  },
  {
   "cell_type": "code",
   "execution_count": 56,
   "metadata": {},
   "outputs": [],
   "source": [
    "with open('data/pokemon.json') as f:\n",
    "    pokemon = json.load(f)"
   ]
  },
  {
   "cell_type": "code",
   "execution_count": 58,
   "metadata": {},
   "outputs": [
    {
     "data": {
      "text/plain": [
       "dict_keys(['abilities', 'base_experience', 'forms', 'game_indices', 'height', 'held_items', 'id', 'is_default', 'location_area_encounters', 'moves', 'name', 'order', 'species', 'sprites', 'stats', 'types', 'weight'])"
      ]
     },
     "execution_count": 58,
     "metadata": {},
     "output_type": "execute_result"
    }
   ],
   "source": [
    "pokemon.keys()"
   ]
  },
  {
   "cell_type": "code",
   "execution_count": 59,
   "metadata": {},
   "outputs": [
    {
     "data": {
      "text/plain": [
       "'ekans'"
      ]
     },
     "execution_count": 59,
     "metadata": {},
     "output_type": "execute_result"
    }
   ],
   "source": [
    "pokemon['name']"
   ]
  },
  {
   "cell_type": "code",
   "execution_count": 65,
   "metadata": {},
   "outputs": [
    {
     "data": {
      "text/plain": [
       "[{'ability': {'name': 'unnerve',\n",
       "   'url': 'https://pokeapi.co/api/v2/ability/127/'},\n",
       "  'is_hidden': True,\n",
       "  'slot': 3},\n",
       " {'ability': {'name': 'shed-skin',\n",
       "   'url': 'https://pokeapi.co/api/v2/ability/61/'},\n",
       "  'is_hidden': False,\n",
       "  'slot': 2},\n",
       " {'ability': {'name': 'intimidate',\n",
       "   'url': 'https://pokeapi.co/api/v2/ability/22/'},\n",
       "  'is_hidden': False,\n",
       "  'slot': 1}]"
      ]
     },
     "execution_count": 65,
     "metadata": {},
     "output_type": "execute_result"
    }
   ],
   "source": [
    "pokemon['abilities']"
   ]
  },
  {
   "cell_type": "markdown",
   "metadata": {},
   "source": [
    "### XML"
   ]
  },
  {
   "cell_type": "code",
   "execution_count": 84,
   "metadata": {},
   "outputs": [],
   "source": [
    "tree = ET.parse('data/profiles.xml')\n",
    "root = tree.getroot()"
   ]
  },
  {
   "cell_type": "code",
   "execution_count": 86,
   "metadata": {},
   "outputs": [
    {
     "data": {
      "text/plain": [
       "'duke'"
      ]
     },
     "execution_count": 86,
     "metadata": {},
     "output_type": "execute_result"
    }
   ],
   "source": [
    "root.tag"
   ]
  },
  {
   "cell_type": "code",
   "execution_count": 90,
   "metadata": {},
   "outputs": [
    {
     "name": "stdout",
     "output_type": "stream",
     "text": [
      "<duke>\n",
      "    <employee>\n",
      "        <address>1063 داوود Stravenue Suite 188\n",
      "        South ريتالstad, NE 15082</address>\n",
      "        <birthdate>None</birthdate>\n",
      "        <blood_group>AB+</blood_group>\n",
      "        <company>آل عواض, آل سلطان and آل مقطة</company>\n",
      "        <current_location>24.333449</current_location>\n",
      "        <current_location>-31.313933</current_location>\n",
      "        <job>Research scientist (physical sciences)</job>\n",
      "        <mail>alqyl@yahoo.com</mail>\n",
      "        <name>الأستاذة أسيل حجار</name>\n",
      "        <residence>456 سرحان Inlet Apt. 218\n",
      "        East سجى, WV 44739</residence>\n",
      "        <sex>F</sex>\n",
      "        <ssn>113-90-3545</ssn>\n",
      "        <username>mhnhrth</username>\n",
      "        <website>https://lhkyr-al.com/</website>\n",
      "        <website>http://al.com/</website>\n",
      "    </employee>\n",
      "    <employee>\n",
      "        <address>9516 Thomas Falls\n",
      "        West Randall, OR 31568</address>\n",
      "        <birthdate>None</birthdate>\n",
      "        <blood_group>A-</blood_group>\n",
      "        <company>Mitchell, Carroll and Cooper</company>\n",
      "        <current_location>45.5171425</current_location>\n",
      "        <current_location>-68.251421</current_location>\n",
      "        <job>Surveyor, building control</job>\n",
      "        <mail>xrichardson@yahoo.com</mail>\n",
      "        <name>Kelly Miller</name>\n",
      "        <residence>21433 Lucero Way Apt. 512\n",
      "        Erinberg, FL 46113</residence>\n",
      "        <sex>F</sex>\n",
      "        <ssn>055-43-6596</ssn>\n",
      "        <username>lboyd</username>\n",
      "        <website>https://www.levine.com/</website>\n",
      "    </employee>\n",
      "    <employee>\n",
      "        <address>甘肃省宁德市长寿崔路S座 747320</address>\n",
      "        <birthdate>None</birthdate>\n",
      "        <blood_group>AB+</blood_group>\n",
      "        <company>图龙信息传媒有限公司</company>\n",
      "        <current_location>-63.7154915</current_location>\n",
      "        <current_location>119.882111</current_location>\n",
      "        <job>可靠度工程师</job>\n",
      "        <mail>weiqin@gmail.com</mail>\n",
      "        <name>王雷</name>\n",
      "        <residence>北京市柳县永川昆明路D座 447897</residence>\n",
      "        <sex>M</sex>\n",
      "        <ssn>350212197208264282</ssn>\n",
      "        <username>yinjun</username>\n",
      "        <website>https://www.uj.com/</website>\n",
      "        <website>http://www.lei.cn/</website>\n",
      "        <website>https://www.gangtao.cn/</website>\n",
      "        <website>http://www.87.cn/</website>\n",
      "    </employee>\n",
      "</duke>\n"
     ]
    }
   ],
   "source": [
    "ET.dump(root)"
   ]
  },
  {
   "cell_type": "code",
   "execution_count": 108,
   "metadata": {},
   "outputs": [
    {
     "name": "stdout",
     "output_type": "stream",
     "text": [
      "             address: 1063 داوود Stravenue Suite 188\n",
      "        South ريتالstad, NE 15082\n",
      "           birthdate: None\n",
      "         blood_group: AB+\n",
      "             company: آل عواض, آل سلطان and آل مقطة\n",
      "    current_location: 24.333449\n",
      "    current_location: -31.313933\n",
      "                 job: Research scientist (physical sciences)\n",
      "                mail: alqyl@yahoo.com\n",
      "                name: الأستاذة أسيل حجار\n",
      "           residence: 456 سرحان Inlet Apt. 218\n",
      "        East سجى, WV 44739\n",
      "                 sex: F\n",
      "                 ssn: 113-90-3545\n",
      "            username: mhnhrth\n",
      "             website: https://lhkyr-al.com/\n",
      "             website: http://al.com/\n"
     ]
    }
   ],
   "source": [
    "for employee in root:\n",
    "    for elem in employee:\n",
    "        print(f'{elem.tag:>20}: {elem.text}')\n",
    "    break"
   ]
  },
  {
   "cell_type": "code",
   "execution_count": 96,
   "metadata": {},
   "outputs": [
    {
     "data": {
      "text/plain": [
       "[<Element 'duke' at 0x1270c99f8>]"
      ]
     },
     "execution_count": 96,
     "metadata": {},
     "output_type": "execute_result"
    }
   ],
   "source": [
    "root.findall('.')"
   ]
  },
  {
   "cell_type": "code",
   "execution_count": 109,
   "metadata": {},
   "outputs": [
    {
     "data": {
      "text/plain": [
       "[<Element 'employee' at 0x1270c9e08>,\n",
       " <Element 'employee' at 0x1270c9408>,\n",
       " <Element 'employee' at 0x126e309f8>]"
      ]
     },
     "execution_count": 109,
     "metadata": {},
     "output_type": "execute_result"
    }
   ],
   "source": [
    "root.findall('./')"
   ]
  },
  {
   "cell_type": "code",
   "execution_count": 118,
   "metadata": {},
   "outputs": [
    {
     "data": {
      "text/plain": [
       "[<Element 'employee' at 0x1270c9e08>,\n",
       " <Element 'address' at 0x1270c9a98>,\n",
       " <Element 'birthdate' at 0x1270c99a8>,\n",
       " <Element 'blood_group' at 0x1270c9958>,\n",
       " <Element 'company' at 0x1270c9908>]"
      ]
     },
     "execution_count": 118,
     "metadata": {},
     "output_type": "execute_result"
    }
   ],
   "source": [
    "root.findall('.//')[:5]"
   ]
  },
  {
   "cell_type": "code",
   "execution_count": 119,
   "metadata": {},
   "outputs": [
    {
     "name": "stdout",
     "output_type": "stream",
     "text": [
      "آل عواض, آل سلطان and آل مقطة\n",
      "Mitchell, Carroll and Cooper\n",
      "图龙信息传媒有限公司\n"
     ]
    }
   ],
   "source": [
    "for item in root.findall('.//company'):\n",
    "    print(item.text)"
   ]
  },
  {
   "cell_type": "markdown",
   "metadata": {},
   "source": [
    "### HDF5\n",
    "\n",
    "Like XML and JSON, HDF5 files store hierarchical data that can be annotated. The strong points of HDF5 are its ability to store large numerical data sets so that selective loading of parts of the data into memory for analysis is possible. HDF5 are also easy to use for people familiar with `numpy` and widely used in the scientific community.\n",
    "\n",
    "There are two popular libraries for working with HDF5. Pandas uses `pytables`, and the stored schema can be quite unintuitive, but that does not matter since we usually just use Pandas to read it back in."
   ]
  },
  {
   "cell_type": "markdown",
   "metadata": {},
   "source": [
    "#### Pandas and `tables`"
   ]
  },
  {
   "cell_type": "code",
   "execution_count": 148,
   "metadata": {},
   "outputs": [],
   "source": [
    "import tables"
   ]
  },
  {
   "cell_type": "code",
   "execution_count": 149,
   "metadata": {},
   "outputs": [],
   "source": [
    "f = tables.open_file('data/profiles.h5')"
   ]
  },
  {
   "cell_type": "code",
   "execution_count": 150,
   "metadata": {},
   "outputs": [
    {
     "data": {
      "text/plain": [
       "File(filename=data/profiles.h5, title='', mode='r', root_uep='/', filters=Filters(complevel=0, shuffle=False, bitshuffle=False, fletcher32=False, least_significant_digit=None))\n",
       "/ (RootGroup) ''\n",
       "/duke (Group) ''\n",
       "/duke/axis0 (Array(14,)) ''\n",
       "  atom := StringAtom(itemsize=11, shape=(), dflt=b'')\n",
       "  maindim := 0\n",
       "  flavor := 'numpy'\n",
       "  byteorder := 'irrelevant'\n",
       "  chunkshape := None\n",
       "/duke/axis1 (Array(3,)) ''\n",
       "  atom := Int64Atom(shape=(), dflt=0)\n",
       "  maindim := 0\n",
       "  flavor := 'numpy'\n",
       "  byteorder := 'little'\n",
       "  chunkshape := None\n",
       "/duke/block0_items (Array(1,)) ''\n",
       "  atom := StringAtom(itemsize=9, shape=(), dflt=b'')\n",
       "  maindim := 0\n",
       "  flavor := 'numpy'\n",
       "  byteorder := 'irrelevant'\n",
       "  chunkshape := None\n",
       "/duke/block0_values (Array(3, 1)) ''\n",
       "  atom := Int64Atom(shape=(), dflt=0)\n",
       "  maindim := 0\n",
       "  flavor := 'numpy'\n",
       "  byteorder := 'little'\n",
       "  chunkshape := None\n",
       "/duke/block1_items (Array(2,)) ''\n",
       "  atom := StringAtom(itemsize=10, shape=(), dflt=b'')\n",
       "  maindim := 0\n",
       "  flavor := 'numpy'\n",
       "  byteorder := 'irrelevant'\n",
       "  chunkshape := None\n",
       "/duke/block1_values (Array(3, 2)) ''\n",
       "  atom := Float64Atom(shape=(), dflt=0.0)\n",
       "  maindim := 0\n",
       "  flavor := 'numpy'\n",
       "  byteorder := 'little'\n",
       "  chunkshape := None\n",
       "/duke/block2_items (Array(11,)) ''\n",
       "  atom := StringAtom(itemsize=11, shape=(), dflt=b'')\n",
       "  maindim := 0\n",
       "  flavor := 'numpy'\n",
       "  byteorder := 'irrelevant'\n",
       "  chunkshape := None\n",
       "/duke/block2_values (VLArray(1,)) ''\n",
       "  atom = ObjectAtom()\n",
       "  byteorder = 'irrelevant'\n",
       "  nrows = 1\n",
       "  flavor = 'numpy'"
      ]
     },
     "execution_count": 150,
     "metadata": {},
     "output_type": "execute_result"
    }
   ],
   "source": [
    "f"
   ]
  },
  {
   "cell_type": "code",
   "execution_count": 162,
   "metadata": {},
   "outputs": [
    {
     "data": {
      "text/plain": [
       "array([b'location_x', b'location_y', b'job', b'company', b'ssn',\n",
       "       b'residence', b'blood_group', b'website', b'username', b'name',\n",
       "       b'sex', b'address', b'mail', b'birthdate'], dtype='|S11')"
      ]
     },
     "execution_count": 162,
     "metadata": {},
     "output_type": "execute_result"
    }
   ],
   "source": [
    "f.root.duke.axis0[:]"
   ]
  },
  {
   "cell_type": "code",
   "execution_count": 163,
   "metadata": {},
   "outputs": [
    {
     "data": {
      "text/plain": [
       "array([0, 1, 2])"
      ]
     },
     "execution_count": 163,
     "metadata": {},
     "output_type": "execute_result"
    }
   ],
   "source": [
    "f.root.duke.axis1[:]"
   ]
  },
  {
   "cell_type": "code",
   "execution_count": 169,
   "metadata": {},
   "outputs": [
    {
     "data": {
      "text/plain": [
       "(array([b'location_x', b'location_y'], dtype='|S10'),\n",
       " array([[ 24.333449 , -31.313933 ],\n",
       "        [ 45.5171425, -68.251421 ],\n",
       "        [-63.7154915, 119.882111 ]]))"
      ]
     },
     "execution_count": 169,
     "metadata": {},
     "output_type": "execute_result"
    }
   ],
   "source": [
    "f.root.duke.block1_items[:], f.root.duke.block1_values[:]"
   ]
  },
  {
   "cell_type": "code",
   "execution_count": 170,
   "metadata": {},
   "outputs": [],
   "source": [
    "f.close()"
   ]
  },
  {
   "cell_type": "markdown",
   "metadata": {},
   "source": [
    "#### Reading into `pandas`"
   ]
  },
  {
   "cell_type": "code",
   "execution_count": 171,
   "metadata": {},
   "outputs": [],
   "source": [
    "df = pd.read_hdf('data/profiles.h5')"
   ]
  },
  {
   "cell_type": "code",
   "execution_count": 172,
   "metadata": {},
   "outputs": [
    {
     "data": {
      "text/html": [
       "<div>\n",
       "<style scoped>\n",
       "    .dataframe tbody tr th:only-of-type {\n",
       "        vertical-align: middle;\n",
       "    }\n",
       "\n",
       "    .dataframe tbody tr th {\n",
       "        vertical-align: top;\n",
       "    }\n",
       "\n",
       "    .dataframe thead th {\n",
       "        text-align: right;\n",
       "    }\n",
       "</style>\n",
       "<table border=\"1\" class=\"dataframe\">\n",
       "  <thead>\n",
       "    <tr style=\"text-align: right;\">\n",
       "      <th></th>\n",
       "      <th>location_x</th>\n",
       "      <th>location_y</th>\n",
       "      <th>job</th>\n",
       "      <th>company</th>\n",
       "      <th>ssn</th>\n",
       "      <th>residence</th>\n",
       "      <th>blood_group</th>\n",
       "      <th>website</th>\n",
       "      <th>username</th>\n",
       "      <th>name</th>\n",
       "      <th>sex</th>\n",
       "      <th>address</th>\n",
       "      <th>mail</th>\n",
       "      <th>birthdate</th>\n",
       "    </tr>\n",
       "  </thead>\n",
       "  <tbody>\n",
       "    <tr>\n",
       "      <td>0</td>\n",
       "      <td>24.333449</td>\n",
       "      <td>-31.313933</td>\n",
       "      <td>Research scientist (physical sciences)</td>\n",
       "      <td>آل عواض, آل سلطان and آل مقطة</td>\n",
       "      <td>113-90-3545</td>\n",
       "      <td>456 سرحان Inlet Apt. 218\\nEast سجى, WV 44739</td>\n",
       "      <td>AB+</td>\n",
       "      <td>[https://lhkyr-al.com/, http://al.com/]</td>\n",
       "      <td>mhnhrth</td>\n",
       "      <td>الأستاذة أسيل حجار</td>\n",
       "      <td>F</td>\n",
       "      <td>1063 داوود Stravenue Suite 188\\nSouth ريتالsta...</td>\n",
       "      <td>alqyl@yahoo.com</td>\n",
       "      <td>1965-05-22</td>\n",
       "    </tr>\n",
       "    <tr>\n",
       "      <td>1</td>\n",
       "      <td>45.517142</td>\n",
       "      <td>-68.251421</td>\n",
       "      <td>Surveyor, building control</td>\n",
       "      <td>Mitchell, Carroll and Cooper</td>\n",
       "      <td>055-43-6596</td>\n",
       "      <td>21433 Lucero Way Apt. 512\\nErinberg, FL 46113</td>\n",
       "      <td>A-</td>\n",
       "      <td>[https://www.levine.com/]</td>\n",
       "      <td>lboyd</td>\n",
       "      <td>Kelly Miller</td>\n",
       "      <td>F</td>\n",
       "      <td>9516 Thomas Falls\\nWest Randall, OR 31568</td>\n",
       "      <td>xrichardson@yahoo.com</td>\n",
       "      <td>1903-11-22</td>\n",
       "    </tr>\n",
       "    <tr>\n",
       "      <td>2</td>\n",
       "      <td>-63.715491</td>\n",
       "      <td>119.882111</td>\n",
       "      <td>可靠度工程师</td>\n",
       "      <td>图龙信息传媒有限公司</td>\n",
       "      <td>350212197208264282</td>\n",
       "      <td>北京市柳县永川昆明路D座 447897</td>\n",
       "      <td>AB+</td>\n",
       "      <td>[https://www.uj.com/, http://www.lei.cn/, http...</td>\n",
       "      <td>yinjun</td>\n",
       "      <td>王雷</td>\n",
       "      <td>M</td>\n",
       "      <td>甘肃省宁德市长寿崔路S座 747320</td>\n",
       "      <td>weiqin@gmail.com</td>\n",
       "      <td>2014-12-29</td>\n",
       "    </tr>\n",
       "  </tbody>\n",
       "</table>\n",
       "</div>"
      ],
      "text/plain": [
       "   location_x  location_y                                     job  \\\n",
       "0   24.333449  -31.313933  Research scientist (physical sciences)   \n",
       "1   45.517142  -68.251421              Surveyor, building control   \n",
       "2  -63.715491  119.882111                                  可靠度工程师   \n",
       "\n",
       "                         company                 ssn  \\\n",
       "0  آل عواض, آل سلطان and آل مقطة         113-90-3545   \n",
       "1   Mitchell, Carroll and Cooper         055-43-6596   \n",
       "2                     图龙信息传媒有限公司  350212197208264282   \n",
       "\n",
       "                                       residence blood_group  \\\n",
       "0   456 سرحان Inlet Apt. 218\\nEast سجى, WV 44739         AB+   \n",
       "1  21433 Lucero Way Apt. 512\\nErinberg, FL 46113          A-   \n",
       "2                            北京市柳县永川昆明路D座 447897         AB+   \n",
       "\n",
       "                                             website username  \\\n",
       "0            [https://lhkyr-al.com/, http://al.com/]  mhnhrth   \n",
       "1                          [https://www.levine.com/]    lboyd   \n",
       "2  [https://www.uj.com/, http://www.lei.cn/, http...   yinjun   \n",
       "\n",
       "                 name sex                                            address  \\\n",
       "0  الأستاذة أسيل حجار   F  1063 داوود Stravenue Suite 188\\nSouth ريتالsta...   \n",
       "1        Kelly Miller   F          9516 Thomas Falls\\nWest Randall, OR 31568   \n",
       "2                  王雷   M                                甘肃省宁德市长寿崔路S座 747320   \n",
       "\n",
       "                    mail  birthdate  \n",
       "0        alqyl@yahoo.com 1965-05-22  \n",
       "1  xrichardson@yahoo.com 1903-11-22  \n",
       "2       weiqin@gmail.com 2014-12-29  "
      ]
     },
     "execution_count": 172,
     "metadata": {},
     "output_type": "execute_result"
    }
   ],
   "source": [
    "df"
   ]
  },
  {
   "cell_type": "markdown",
   "metadata": {},
   "source": [
    "#### Using `h5py`\n",
    "\n",
    "For actually working directly with HDF5, I find `h5py` more intuitive."
   ]
  },
  {
   "cell_type": "code",
   "execution_count": 197,
   "metadata": {},
   "outputs": [],
   "source": [
    "import os"
   ]
  },
  {
   "cell_type": "code",
   "execution_count": 215,
   "metadata": {},
   "outputs": [],
   "source": [
    "filename = 'data/simulations.h5'\n",
    "if os.path.exists(filename):\n",
    "    os.remove(filename)\n",
    "f = h5py.File(filename)"
   ]
  },
  {
   "cell_type": "code",
   "execution_count": 216,
   "metadata": {},
   "outputs": [],
   "source": [
    "import pendulum"
   ]
  },
  {
   "cell_type": "code",
   "execution_count": 217,
   "metadata": {},
   "outputs": [],
   "source": [
    "start = pendulum.now()\n",
    "stop = start.add(days=3)\n",
    "for day in pendulum.period(start, stop):\n",
    "    g = f.create_group(day.format('ddd'))\n",
    "    g.attrs['date'] = day.format('LLL')\n",
    "    g.attrs['analyst'] = 'Mario'\n",
    "    for expt in range(3):\n",
    "        data = np.random.poisson(size=(100, 100))\n",
    "        ds = g.create_dataset(f'expt-{expt:02d}', data=data)"
   ]
  },
  {
   "cell_type": "code",
   "execution_count": 218,
   "metadata": {},
   "outputs": [],
   "source": [
    "f.close()"
   ]
  },
  {
   "cell_type": "code",
   "execution_count": 219,
   "metadata": {},
   "outputs": [],
   "source": [
    "f = h5py.File(filename, 'r')"
   ]
  },
  {
   "cell_type": "code",
   "execution_count": 220,
   "metadata": {},
   "outputs": [
    {
     "data": {
      "text/plain": [
       "['Fri', 'Mon', 'Sat', 'Sun']"
      ]
     },
     "execution_count": 220,
     "metadata": {},
     "output_type": "execute_result"
    }
   ],
   "source": [
    "list(f.keys())"
   ]
  },
  {
   "cell_type": "code",
   "execution_count": 221,
   "metadata": {},
   "outputs": [
    {
     "data": {
      "text/plain": [
       "['date', 'analyst']"
      ]
     },
     "execution_count": 221,
     "metadata": {},
     "output_type": "execute_result"
    }
   ],
   "source": [
    "list(f['Sat'].attrs.keys())"
   ]
  },
  {
   "cell_type": "code",
   "execution_count": 222,
   "metadata": {},
   "outputs": [
    {
     "data": {
      "text/plain": [
       "'Mario'"
      ]
     },
     "execution_count": 222,
     "metadata": {},
     "output_type": "execute_result"
    }
   ],
   "source": [
    "f['Sat'].attrs['analyst']"
   ]
  },
  {
   "cell_type": "code",
   "execution_count": 223,
   "metadata": {},
   "outputs": [
    {
     "data": {
      "text/plain": [
       "'August 31, 2019 7:29 PM'"
      ]
     },
     "execution_count": 223,
     "metadata": {},
     "output_type": "execute_result"
    }
   ],
   "source": [
    "f['Sat'].attrs['date']"
   ]
  },
  {
   "cell_type": "code",
   "execution_count": 224,
   "metadata": {},
   "outputs": [
    {
     "data": {
      "text/plain": [
       "['expt-00', 'expt-01', 'expt-02']"
      ]
     },
     "execution_count": 224,
     "metadata": {},
     "output_type": "execute_result"
    }
   ],
   "source": [
    "list(f['Sat'].keys())"
   ]
  },
  {
   "cell_type": "code",
   "execution_count": 225,
   "metadata": {},
   "outputs": [
    {
     "data": {
      "text/plain": [
       "array([[0, 1, 2, 1, 1],\n",
       "       [0, 1, 2, 2, 2],\n",
       "       [1, 0, 1, 1, 0],\n",
       "       [2, 3, 3, 2, 5],\n",
       "       [0, 2, 1, 1, 2]])"
      ]
     },
     "execution_count": 225,
     "metadata": {},
     "output_type": "execute_result"
    }
   ],
   "source": [
    "f['Sat']['expt-01'][5:10, 5:10]"
   ]
  },
  {
   "cell_type": "code",
   "execution_count": 227,
   "metadata": {},
   "outputs": [
    {
     "data": {
      "text/plain": [
       "array([ 3,  7,  9,  7, 10])"
      ]
     },
     "execution_count": 227,
     "metadata": {},
     "output_type": "execute_result"
    }
   ],
   "source": [
    "f['Sat']['expt-01'][5:10, 5:10].sum(axis=0)"
   ]
  },
  {
   "cell_type": "markdown",
   "metadata": {},
   "source": [
    "## Avro"
   ]
  },
  {
   "cell_type": "code",
   "execution_count": 235,
   "metadata": {},
   "outputs": [],
   "source": [
    "%%bash --out s\n",
    "fastavro --schema data/profiles.avro"
   ]
  },
  {
   "cell_type": "code",
   "execution_count": 236,
   "metadata": {},
   "outputs": [],
   "source": [
    "schema = eval(s.replace('true', 'True'))"
   ]
  },
  {
   "cell_type": "code",
   "execution_count": 238,
   "metadata": {},
   "outputs": [
    {
     "data": {
      "text/plain": [
       "{'__rec_avro_schema__': True,\n",
       " 'type': 'record',\n",
       " 'name': 'rec_avro.rec_object',\n",
       " 'fields': [{'name': '_',\n",
       "   'type': [{'type': 'map',\n",
       "     'values': ['null',\n",
       "      'boolean',\n",
       "      'int',\n",
       "      'long',\n",
       "      'float',\n",
       "      'double',\n",
       "      'string',\n",
       "      'bytes',\n",
       "      'rec_avro.rec_object']},\n",
       "    {'type': 'array',\n",
       "     'items': ['null',\n",
       "      'boolean',\n",
       "      'int',\n",
       "      'long',\n",
       "      'float',\n",
       "      'double',\n",
       "      'string',\n",
       "      'bytes',\n",
       "      'rec_avro.rec_object']}]}]}"
      ]
     },
     "execution_count": 238,
     "metadata": {},
     "output_type": "execute_result"
    }
   ],
   "source": [
    "schema"
   ]
  },
  {
   "cell_type": "code",
   "execution_count": 240,
   "metadata": {},
   "outputs": [
    {
     "name": "stdout",
     "output_type": "stream",
     "text": [
      "{'_': {'job': 'Research scientist (physical sciences)', 'company': 'آل عواض, آل سلطان and آل مقطة', 'ssn': '113-90-3545', 'residence': '456 سرحان Inlet Apt. 218\\nEast سجى, WV 44739', 'current_location': {'_': [24.33344841003418, -31.313932418823242]}, 'blood_group': 'AB+', 'website': {'_': ['https://lhkyr-al.com/', 'http://al.com/']}, 'username': 'mhnhrth', 'name': 'الأستاذة أسيل حجار', 'sex': 'F', 'address': '1063 داوود Stravenue Suite 188\\nSouth ريتالstad, NE 15082', 'mail': 'alqyl@yahoo.com', 'birthdate': None}}\n",
      "{'_': {'job': 'Surveyor, building control', 'company': 'Mitchell, Carroll and Cooper', 'ssn': '055-43-6596', 'residence': '21433 Lucero Way Apt. 512\\nErinberg, FL 46113', 'current_location': {'_': [45.51714324951172, -68.25141906738281]}, 'blood_group': 'A-', 'website': {'_': ['https://www.levine.com/']}, 'username': 'lboyd', 'name': 'Kelly Miller', 'sex': 'F', 'address': '9516 Thomas Falls\\nWest Randall, OR 31568', 'mail': 'xrichardson@yahoo.com', 'birthdate': None}}\n",
      "{'_': {'job': '可靠度工程师', 'company': '图龙信息传媒有限公司', 'ssn': '350212197208264282', 'residence': '北京市柳县永川昆明路D座 447897', 'current_location': {'_': [-63.715492248535156, 119.88211059570312]}, 'blood_group': 'AB+', 'website': {'_': ['https://www.uj.com/', 'http://www.lei.cn/', 'https://www.gangtao.cn/', 'http://www.87.cn/']}, 'username': 'yinjun', 'name': '王雷', 'sex': 'M', 'address': '甘肃省宁德市长寿崔路S座 747320', 'mail': 'weiqin@gmail.com', 'birthdate': None}}\n"
     ]
    }
   ],
   "source": [
    "with open('data/profiles.avro', 'rb') as f:\n",
    "    avro_reader = reader(f, reader_schema=schema)\n",
    "    for record in avro_reader:\n",
    "        print(record)"
   ]
  },
  {
   "cell_type": "markdown",
   "metadata": {},
   "source": [
    "#### Avro to JSON"
   ]
  },
  {
   "cell_type": "code",
   "execution_count": 242,
   "metadata": {},
   "outputs": [
    {
     "name": "stdout",
     "output_type": "stream",
     "text": [
      "{'job': 'Research scientist (physical sciences)', 'company': 'آل عواض, آل سلطان and آل مقطة', 'ssn': '113-90-3545', 'residence': '456 سرحان Inlet Apt. 218\\nEast سجى, WV 44739', 'current_location': [24.33344841003418, -31.313932418823242], 'blood_group': 'AB+', 'website': ['https://lhkyr-al.com/', 'http://al.com/'], 'username': 'mhnhrth', 'name': 'الأستاذة أسيل حجار', 'sex': 'F', 'address': '1063 داوود Stravenue Suite 188\\nSouth ريتالstad, NE 15082', 'mail': 'alqyl@yahoo.com', 'birthdate': None}\n",
      "{'job': 'Surveyor, building control', 'company': 'Mitchell, Carroll and Cooper', 'ssn': '055-43-6596', 'residence': '21433 Lucero Way Apt. 512\\nErinberg, FL 46113', 'current_location': [45.51714324951172, -68.25141906738281], 'blood_group': 'A-', 'website': ['https://www.levine.com/'], 'username': 'lboyd', 'name': 'Kelly Miller', 'sex': 'F', 'address': '9516 Thomas Falls\\nWest Randall, OR 31568', 'mail': 'xrichardson@yahoo.com', 'birthdate': None}\n",
      "{'job': '可靠度工程师', 'company': '图龙信息传媒有限公司', 'ssn': '350212197208264282', 'residence': '北京市柳县永川昆明路D座 447897', 'current_location': [-63.715492248535156, 119.88211059570312], 'blood_group': 'AB+', 'website': ['https://www.uj.com/', 'http://www.lei.cn/', 'https://www.gangtao.cn/', 'http://www.87.cn/'], 'username': 'yinjun', 'name': '王雷', 'sex': 'M', 'address': '甘肃省宁德市长寿崔路S座 747320', 'mail': 'weiqin@gmail.com', 'birthdate': None}\n"
     ]
    }
   ],
   "source": [
    "with open('data/profiles.avro', 'rb') as f:\n",
    "    avro_reader = reader(f, reader_schema=schema)\n",
    "    for record in avro_reader:\n",
    "        print(from_rec_avro_destructive(record))"
   ]
  },
  {
   "cell_type": "markdown",
   "metadata": {},
   "source": [
    "### Parquet"
   ]
  },
  {
   "cell_type": "code",
   "execution_count": 246,
   "metadata": {},
   "outputs": [],
   "source": [
    "parq = fastparquet.ParquetFile('data/profiles.parq')"
   ]
  },
  {
   "cell_type": "code",
   "execution_count": 249,
   "metadata": {},
   "outputs": [
    {
     "data": {
      "text/plain": [
       "['location_x',\n",
       " 'location_y',\n",
       " 'job',\n",
       " 'company',\n",
       " 'ssn',\n",
       " 'residence',\n",
       " 'blood_group',\n",
       " 'website',\n",
       " 'username',\n",
       " 'name',\n",
       " 'sex',\n",
       " 'address',\n",
       " 'mail',\n",
       " 'birthdate']"
      ]
     },
     "execution_count": 249,
     "metadata": {},
     "output_type": "execute_result"
    }
   ],
   "source": [
    "parq.columns"
   ]
  },
  {
   "cell_type": "code",
   "execution_count": 250,
   "metadata": {},
   "outputs": [],
   "source": [
    "df = parq.to_pandas()"
   ]
  },
  {
   "cell_type": "code",
   "execution_count": 251,
   "metadata": {},
   "outputs": [
    {
     "data": {
      "text/html": [
       "<div>\n",
       "<style scoped>\n",
       "    .dataframe tbody tr th:only-of-type {\n",
       "        vertical-align: middle;\n",
       "    }\n",
       "\n",
       "    .dataframe tbody tr th {\n",
       "        vertical-align: top;\n",
       "    }\n",
       "\n",
       "    .dataframe thead th {\n",
       "        text-align: right;\n",
       "    }\n",
       "</style>\n",
       "<table border=\"1\" class=\"dataframe\">\n",
       "  <thead>\n",
       "    <tr style=\"text-align: right;\">\n",
       "      <th></th>\n",
       "      <th>location_x</th>\n",
       "      <th>location_y</th>\n",
       "      <th>job</th>\n",
       "      <th>company</th>\n",
       "      <th>ssn</th>\n",
       "      <th>residence</th>\n",
       "      <th>blood_group</th>\n",
       "      <th>website</th>\n",
       "      <th>username</th>\n",
       "      <th>name</th>\n",
       "      <th>sex</th>\n",
       "      <th>address</th>\n",
       "      <th>mail</th>\n",
       "      <th>birthdate</th>\n",
       "    </tr>\n",
       "  </thead>\n",
       "  <tbody>\n",
       "    <tr>\n",
       "      <td>0</td>\n",
       "      <td>24.333449</td>\n",
       "      <td>-31.313933</td>\n",
       "      <td>Research scientist (physical sciences)</td>\n",
       "      <td>آل عواض, آل سلطان and آل مقطة</td>\n",
       "      <td>113-90-3545</td>\n",
       "      <td>456 سرحان Inlet Apt. 218\\nEast سجى, WV 44739</td>\n",
       "      <td>AB+</td>\n",
       "      <td>[https://lhkyr-al.com/, http://al.com/]</td>\n",
       "      <td>mhnhrth</td>\n",
       "      <td>الأستاذة أسيل حجار</td>\n",
       "      <td>F</td>\n",
       "      <td>1063 داوود Stravenue Suite 188\\nSouth ريتالsta...</td>\n",
       "      <td>alqyl@yahoo.com</td>\n",
       "      <td>1965-05-22</td>\n",
       "    </tr>\n",
       "  </tbody>\n",
       "</table>\n",
       "</div>"
      ],
      "text/plain": [
       "   location_x  location_y                                     job  \\\n",
       "0   24.333449  -31.313933  Research scientist (physical sciences)   \n",
       "\n",
       "                         company          ssn  \\\n",
       "0  آل عواض, آل سلطان and آل مقطة  113-90-3545   \n",
       "\n",
       "                                      residence blood_group  \\\n",
       "0  456 سرحان Inlet Apt. 218\\nEast سجى, WV 44739         AB+   \n",
       "\n",
       "                                   website username                name sex  \\\n",
       "0  [https://lhkyr-al.com/, http://al.com/]  mhnhrth  الأستاذة أسيل حجار   F   \n",
       "\n",
       "                                             address             mail  \\\n",
       "0  1063 داوود Stravenue Suite 188\\nSouth ريتالsta...  alqyl@yahoo.com   \n",
       "\n",
       "   birthdate  \n",
       "0 1965-05-22  "
      ]
     },
     "execution_count": 251,
     "metadata": {},
     "output_type": "execute_result"
    }
   ],
   "source": [
    "df.head(1)"
   ]
  },
  {
   "cell_type": "code",
   "execution_count": 253,
   "metadata": {},
   "outputs": [],
   "source": [
    "df = pd.read_parquet('data/profiles.parq')"
   ]
  },
  {
   "cell_type": "code",
   "execution_count": 254,
   "metadata": {},
   "outputs": [
    {
     "data": {
      "text/html": [
       "<div>\n",
       "<style scoped>\n",
       "    .dataframe tbody tr th:only-of-type {\n",
       "        vertical-align: middle;\n",
       "    }\n",
       "\n",
       "    .dataframe tbody tr th {\n",
       "        vertical-align: top;\n",
       "    }\n",
       "\n",
       "    .dataframe thead th {\n",
       "        text-align: right;\n",
       "    }\n",
       "</style>\n",
       "<table border=\"1\" class=\"dataframe\">\n",
       "  <thead>\n",
       "    <tr style=\"text-align: right;\">\n",
       "      <th></th>\n",
       "      <th>location_x</th>\n",
       "      <th>location_y</th>\n",
       "      <th>job</th>\n",
       "      <th>company</th>\n",
       "      <th>ssn</th>\n",
       "      <th>residence</th>\n",
       "      <th>blood_group</th>\n",
       "      <th>website</th>\n",
       "      <th>username</th>\n",
       "      <th>name</th>\n",
       "      <th>sex</th>\n",
       "      <th>address</th>\n",
       "      <th>mail</th>\n",
       "      <th>birthdate</th>\n",
       "    </tr>\n",
       "  </thead>\n",
       "  <tbody>\n",
       "    <tr>\n",
       "      <td>0</td>\n",
       "      <td>24.333449</td>\n",
       "      <td>-31.313933</td>\n",
       "      <td>Research scientist (physical sciences)</td>\n",
       "      <td>آل عواض, آل سلطان and آل مقطة</td>\n",
       "      <td>113-90-3545</td>\n",
       "      <td>456 سرحان Inlet Apt. 218\\nEast سجى, WV 44739</td>\n",
       "      <td>AB+</td>\n",
       "      <td>[https://lhkyr-al.com/, http://al.com/]</td>\n",
       "      <td>mhnhrth</td>\n",
       "      <td>الأستاذة أسيل حجار</td>\n",
       "      <td>F</td>\n",
       "      <td>1063 داوود Stravenue Suite 188\\nSouth ريتالsta...</td>\n",
       "      <td>alqyl@yahoo.com</td>\n",
       "      <td>1965-05-22</td>\n",
       "    </tr>\n",
       "  </tbody>\n",
       "</table>\n",
       "</div>"
      ],
      "text/plain": [
       "   location_x  location_y                                     job  \\\n",
       "0   24.333449  -31.313933  Research scientist (physical sciences)   \n",
       "\n",
       "                         company          ssn  \\\n",
       "0  آل عواض, آل سلطان and آل مقطة  113-90-3545   \n",
       "\n",
       "                                      residence blood_group  \\\n",
       "0  456 سرحان Inlet Apt. 218\\nEast سجى, WV 44739         AB+   \n",
       "\n",
       "                                   website username                name sex  \\\n",
       "0  [https://lhkyr-al.com/, http://al.com/]  mhnhrth  الأستاذة أسيل حجار   F   \n",
       "\n",
       "                                             address             mail  \\\n",
       "0  1063 داوود Stravenue Suite 188\\nSouth ريتالsta...  alqyl@yahoo.com   \n",
       "\n",
       "   birthdate  \n",
       "0 1965-05-22  "
      ]
     },
     "execution_count": 254,
     "metadata": {},
     "output_type": "execute_result"
    }
   ],
   "source": [
    "df.head(1)"
   ]
  },
  {
   "cell_type": "markdown",
   "metadata": {},
   "source": [
    "## Writing data to different file formats"
   ]
  },
  {
   "cell_type": "markdown",
   "metadata": {},
   "source": [
    "### Creating fake profiles"
   ]
  },
  {
   "cell_type": "code",
   "execution_count": null,
   "metadata": {},
   "outputs": [],
   "source": []
  },
  {
   "cell_type": "code",
   "execution_count": 4,
   "metadata": {},
   "outputs": [],
   "source": [
    "fakes = [\n",
    "    Faker('zh_CN'), \n",
    "    Faker('ar_SA'), \n",
    "    Faker('en_US'), \n",
    "]"
   ]
  },
  {
   "cell_type": "code",
   "execution_count": 5,
   "metadata": {},
   "outputs": [],
   "source": [
    "np.random.seed(1)"
   ]
  },
  {
   "cell_type": "code",
   "execution_count": 6,
   "metadata": {},
   "outputs": [],
   "source": [
    "n = 3\n",
    "p = [0.3, 0.2, 0.5]\n",
    "locales = np.random.choice(len(fakes), size=n, p=p)"
   ]
  },
  {
   "cell_type": "code",
   "execution_count": 7,
   "metadata": {},
   "outputs": [],
   "source": [
    "profiles = [fakes[locale].profile() for locale in locales]"
   ]
  },
  {
   "cell_type": "code",
   "execution_count": 8,
   "metadata": {},
   "outputs": [
    {
     "data": {
      "text/plain": [
       "[{'job': 'Research scientist (physical sciences)',\n",
       "  'company': 'آل عواض, آل سلطان and آل مقطة',\n",
       "  'ssn': '113-90-3545',\n",
       "  'residence': '456 سرحان Inlet Apt. 218\\nEast سجى, WV 44739',\n",
       "  'current_location': (Decimal('24.333449'), Decimal('-31.313933')),\n",
       "  'blood_group': 'AB+',\n",
       "  'website': ['https://lhkyr-al.com/', 'http://al.com/'],\n",
       "  'username': 'mhnhrth',\n",
       "  'name': 'الأستاذة أسيل حجار',\n",
       "  'sex': 'F',\n",
       "  'address': '1063 داوود Stravenue Suite 188\\nSouth ريتالstad, NE 15082',\n",
       "  'mail': 'alqyl@yahoo.com',\n",
       "  'birthdate': datetime.date(1965, 5, 22)},\n",
       " {'job': 'Surveyor, building control',\n",
       "  'company': 'Mitchell, Carroll and Cooper',\n",
       "  'ssn': '055-43-6596',\n",
       "  'residence': '21433 Lucero Way Apt. 512\\nErinberg, FL 46113',\n",
       "  'current_location': (Decimal('45.5171425'), Decimal('-68.251421')),\n",
       "  'blood_group': 'A-',\n",
       "  'website': ['https://www.levine.com/'],\n",
       "  'username': 'lboyd',\n",
       "  'name': 'Kelly Miller',\n",
       "  'sex': 'F',\n",
       "  'address': '9516 Thomas Falls\\nWest Randall, OR 31568',\n",
       "  'mail': 'xrichardson@yahoo.com',\n",
       "  'birthdate': datetime.date(1903, 11, 22)},\n",
       " {'job': '可靠度工程师',\n",
       "  'company': '图龙信息传媒有限公司',\n",
       "  'ssn': '350212197208264282',\n",
       "  'residence': '北京市柳县永川昆明路D座 447897',\n",
       "  'current_location': (Decimal('-63.7154915'), Decimal('119.882111')),\n",
       "  'blood_group': 'AB+',\n",
       "  'website': ['https://www.uj.com/',\n",
       "   'http://www.lei.cn/',\n",
       "   'https://www.gangtao.cn/',\n",
       "   'http://www.87.cn/'],\n",
       "  'username': 'yinjun',\n",
       "  'name': '王雷',\n",
       "  'sex': 'M',\n",
       "  'address': '甘肃省宁德市长寿崔路S座 747320',\n",
       "  'mail': 'weiqin@gmail.com',\n",
       "  'birthdate': datetime.date(2014, 12, 29)}]"
      ]
     },
     "execution_count": 8,
     "metadata": {},
     "output_type": "execute_result"
    }
   ],
   "source": [
    "profiles"
   ]
  },
  {
   "cell_type": "markdown",
   "metadata": {},
   "source": [
    "### Convert to Parquet-compatible data types"
   ]
  },
  {
   "cell_type": "code",
   "execution_count": 9,
   "metadata": {},
   "outputs": [],
   "source": [
    "df = pd.DataFrame(profiles)"
   ]
  },
  {
   "cell_type": "code",
   "execution_count": 10,
   "metadata": {},
   "outputs": [],
   "source": [
    "df.to_csv('profiles.csv', index=False)"
   ]
  },
  {
   "cell_type": "code",
   "execution_count": 11,
   "metadata": {},
   "outputs": [],
   "source": [
    "df.to_csv('profiles.txt', index=False, sep='\\t')"
   ]
  },
  {
   "cell_type": "code",
   "execution_count": 12,
   "metadata": {},
   "outputs": [],
   "source": [
    "df.birthdate = pd.to_datetime(df.birthdate)\n",
    "df = (\n",
    "    df.current_location.\n",
    "    apply(pd.Series).\n",
    "    merge(df, left_index=True, right_index=True).\n",
    "    drop('current_location', axis=1).\n",
    "    rename({0: 'location_x', 1: 'location_y'}, axis=1)\n",
    ")\n",
    "df['location_x'] = df['location_x'].astype('float')\n",
    "df['location_y'] = df['location_y'].astype('float')"
   ]
  },
  {
   "cell_type": "code",
   "execution_count": 13,
   "metadata": {},
   "outputs": [
    {
     "name": "stderr",
     "output_type": "stream",
     "text": [
      "/usr/local/lib/python3.6/site-packages/pandas/core/generic.py:2530: PerformanceWarning: \n",
      "your performance may suffer as PyTables will pickle object types that it cannot\n",
      "map directly to c-types [inferred_type->mixed,key->block2_values] [items->['job', 'company', 'ssn', 'residence', 'blood_group', 'website', 'username', 'name', 'sex', 'address', 'mail']]\n",
      "\n",
      "  pytables.to_hdf(path_or_buf, key, self, **kwargs)\n"
     ]
    }
   ],
   "source": [
    "df.to_hdf('profiles.h5', key='duke')"
   ]
  },
  {
   "cell_type": "code",
   "execution_count": 14,
   "metadata": {},
   "outputs": [],
   "source": [
    "fastparquet.write('profiles.parq', df)"
   ]
  },
  {
   "cell_type": "code",
   "execution_count": 15,
   "metadata": {},
   "outputs": [],
   "source": [
    "from sqlalchemy import create_engine\n",
    "engine = create_engine('sqlite:///data/profiles.sqlite', echo=False)"
   ]
  },
  {
   "cell_type": "code",
   "execution_count": 16,
   "metadata": {},
   "outputs": [],
   "source": [
    "df['website'] = df.website.apply(lambda s: ','.join(s))"
   ]
  },
  {
   "cell_type": "code",
   "execution_count": 17,
   "metadata": {},
   "outputs": [],
   "source": [
    "df.to_sql('duke', con=engine, if_exists='replace', index_label='id')"
   ]
  },
  {
   "cell_type": "code",
   "execution_count": 74,
   "metadata": {},
   "outputs": [],
   "source": [
    "def converter(o):\n",
    "    if isinstance(o, datetime.datetime):\n",
    "        return o.__str__()\n",
    "    if isinstance(o, decimal.Decimal):\n",
    "        return o.__str__()"
   ]
  },
  {
   "cell_type": "code",
   "execution_count": 19,
   "metadata": {},
   "outputs": [],
   "source": [
    "with open('profiles.json', 'w') as f:\n",
    "    simplejson.dump(profiles , f, default=converter)"
   ]
  },
  {
   "cell_type": "code",
   "execution_count": 76,
   "metadata": {},
   "outputs": [],
   "source": [
    "with open('data/profiles.xml', 'w') as f:\n",
    "    data = readfromstring(simplejson.dumps(profiles , f, default=converter))\n",
    "    f.write(json2xml.Json2xml({'employee': data}, wrapper=\"duke\").to_xml())"
   ]
  },
  {
   "cell_type": "code",
   "execution_count": 21,
   "metadata": {},
   "outputs": [],
   "source": [
    "ps = simplejson.load(open('profiles.json'))"
   ]
  },
  {
   "cell_type": "code",
   "execution_count": 22,
   "metadata": {},
   "outputs": [],
   "source": [
    "avro_objects = [to_rec_avro_destructive(rec) for rec in ps]"
   ]
  },
  {
   "cell_type": "code",
   "execution_count": 23,
   "metadata": {},
   "outputs": [],
   "source": [
    "with open('profiles.avro', 'wb') as f_out:\n",
    "    writer(f_out, parse_schema(rec_avro_schema()), avro_objects)"
   ]
  },
  {
   "cell_type": "code",
   "execution_count": 24,
   "metadata": {},
   "outputs": [],
   "source": [
    "%%bash --out s\n",
    "fastavro --schema profiles.avro"
   ]
  },
  {
   "cell_type": "code",
   "execution_count": 25,
   "metadata": {},
   "outputs": [],
   "source": [
    "schema = eval(s.replace('true', 'True'))"
   ]
  },
  {
   "cell_type": "code",
   "execution_count": 26,
   "metadata": {},
   "outputs": [
    {
     "data": {
      "text/plain": [
       "{'__rec_avro_schema__': True,\n",
       " 'type': 'record',\n",
       " 'name': 'rec_avro.rec_object',\n",
       " 'fields': [{'name': '_',\n",
       "   'type': [{'type': 'map',\n",
       "     'values': ['null',\n",
       "      'boolean',\n",
       "      'int',\n",
       "      'long',\n",
       "      'float',\n",
       "      'double',\n",
       "      'string',\n",
       "      'bytes',\n",
       "      'rec_avro.rec_object']},\n",
       "    {'type': 'array',\n",
       "     'items': ['null',\n",
       "      'boolean',\n",
       "      'int',\n",
       "      'long',\n",
       "      'float',\n",
       "      'double',\n",
       "      'string',\n",
       "      'bytes',\n",
       "      'rec_avro.rec_object']}]}]}"
      ]
     },
     "execution_count": 26,
     "metadata": {},
     "output_type": "execute_result"
    }
   ],
   "source": [
    "schema"
   ]
  },
  {
   "cell_type": "code",
   "execution_count": 233,
   "metadata": {},
   "outputs": [
    {
     "ename": "NameError",
     "evalue": "name 'schema' is not defined",
     "output_type": "error",
     "traceback": [
      "\u001b[0;31m---------------------------------------------------------------------------\u001b[0m",
      "\u001b[0;31mNameError\u001b[0m                                 Traceback (most recent call last)",
      "\u001b[0;32m<ipython-input-233-23b012eabb4a>\u001b[0m in \u001b[0;36m<module>\u001b[0;34m\u001b[0m\n\u001b[1;32m      1\u001b[0m \u001b[0;32mwith\u001b[0m \u001b[0mopen\u001b[0m\u001b[0;34m(\u001b[0m\u001b[0;34m'data/profiles.avro'\u001b[0m\u001b[0;34m,\u001b[0m \u001b[0;34m'rb'\u001b[0m\u001b[0;34m)\u001b[0m \u001b[0;32mas\u001b[0m \u001b[0mf\u001b[0m\u001b[0;34m:\u001b[0m\u001b[0;34m\u001b[0m\u001b[0m\n\u001b[0;32m----> 2\u001b[0;31m     \u001b[0mavro_reader\u001b[0m \u001b[0;34m=\u001b[0m \u001b[0mreader\u001b[0m\u001b[0;34m(\u001b[0m\u001b[0mf\u001b[0m\u001b[0;34m,\u001b[0m \u001b[0mreader_schema\u001b[0m\u001b[0;34m=\u001b[0m\u001b[0mschema\u001b[0m\u001b[0;34m)\u001b[0m\u001b[0;34m\u001b[0m\u001b[0m\n\u001b[0m\u001b[1;32m      3\u001b[0m     \u001b[0;32mfor\u001b[0m \u001b[0mrecord\u001b[0m \u001b[0;32min\u001b[0m \u001b[0mavro_reader\u001b[0m\u001b[0;34m:\u001b[0m\u001b[0;34m\u001b[0m\u001b[0m\n\u001b[1;32m      4\u001b[0m         \u001b[0mprint\u001b[0m\u001b[0;34m(\u001b[0m\u001b[0mrecord\u001b[0m\u001b[0;34m)\u001b[0m\u001b[0;34m\u001b[0m\u001b[0m\n",
      "\u001b[0;31mNameError\u001b[0m: name 'schema' is not defined"
     ]
    }
   ],
   "source": [
    "with open('data/profiles.avro', 'rb') as f:\n",
    "    avro_reader = reader(f, reader_schema=schema)\n",
    "    for record in avro_reader:\n",
    "        print(record)"
   ]
  },
  {
   "cell_type": "code",
   "execution_count": 28,
   "metadata": {},
   "outputs": [
    {
     "name": "stdout",
     "output_type": "stream",
     "text": [
      "{'job': 'Research scientist (physical sciences)', 'company': 'آل عواض, آل سلطان and آل مقطة', 'ssn': '113-90-3545', 'residence': '456 سرحان Inlet Apt. 218\\nEast سجى, WV 44739', 'current_location': [24.33344841003418, -31.313932418823242], 'blood_group': 'AB+', 'website': ['https://lhkyr-al.com/', 'http://al.com/'], 'username': 'mhnhrth', 'name': 'الأستاذة أسيل حجار', 'sex': 'F', 'address': '1063 داوود Stravenue Suite 188\\nSouth ريتالstad, NE 15082', 'mail': 'alqyl@yahoo.com', 'birthdate': None}\n",
      "{'job': 'Surveyor, building control', 'company': 'Mitchell, Carroll and Cooper', 'ssn': '055-43-6596', 'residence': '21433 Lucero Way Apt. 512\\nErinberg, FL 46113', 'current_location': [45.51714324951172, -68.25141906738281], 'blood_group': 'A-', 'website': ['https://www.levine.com/'], 'username': 'lboyd', 'name': 'Kelly Miller', 'sex': 'F', 'address': '9516 Thomas Falls\\nWest Randall, OR 31568', 'mail': 'xrichardson@yahoo.com', 'birthdate': None}\n",
      "{'job': '可靠度工程师', 'company': '图龙信息传媒有限公司', 'ssn': '350212197208264282', 'residence': '北京市柳县永川昆明路D座 447897', 'current_location': [-63.715492248535156, 119.88211059570312], 'blood_group': 'AB+', 'website': ['https://www.uj.com/', 'http://www.lei.cn/', 'https://www.gangtao.cn/', 'http://www.87.cn/'], 'username': 'yinjun', 'name': '王雷', 'sex': 'M', 'address': '甘肃省宁德市长寿崔路S座 747320', 'mail': 'weiqin@gmail.com', 'birthdate': None}\n"
     ]
    }
   ],
   "source": [
    "with open('profiles.avro', 'rb') as f:\n",
    "    avro_reader = reader(f, reader_schema=schema)\n",
    "    for record in avro_reader:\n",
    "        print(from_rec_avro_destructive(record))"
   ]
  },
  {
   "cell_type": "code",
   "execution_count": null,
   "metadata": {},
   "outputs": [],
   "source": []
  },
  {
   "cell_type": "code",
   "execution_count": null,
   "metadata": {},
   "outputs": [],
   "source": []
  },
  {
   "cell_type": "code",
   "execution_count": null,
   "metadata": {},
   "outputs": [],
   "source": []
  },
  {
   "cell_type": "code",
   "execution_count": null,
   "metadata": {},
   "outputs": [],
   "source": []
  },
  {
   "cell_type": "code",
   "execution_count": null,
   "metadata": {},
   "outputs": [],
   "source": []
  },
  {
   "cell_type": "code",
   "execution_count": null,
   "metadata": {},
   "outputs": [],
   "source": []
  },
  {
   "cell_type": "code",
   "execution_count": null,
   "metadata": {},
   "outputs": [],
   "source": [
    "root = ET.Element(\"root\")\n",
    "doc = ET.SubElement(root, \"doc\")\n",
    "\n",
    "ET.SubElement(doc, \"field1\", name=\"blah\").text = \"some value1\"\n",
    "ET.SubElement(doc, \"field2\", name=\"asdfasd\").text = \"some vlaue2\"\n",
    "\n",
    "tree = ET.ElementTree(root)\n",
    "tree.write(\"filename.xml\")"
   ]
  },
  {
   "cell_type": "code",
   "execution_count": null,
   "metadata": {},
   "outputs": [],
   "source": [
    ": %pprint"
   ]
  },
  {
   "cell_type": "code",
   "execution_count": null,
   "metadata": {},
   "outputs": [],
   "source": [
    "pprint(tree)"
   ]
  },
  {
   "cell_type": "code",
   "execution_count": null,
   "metadata": {},
   "outputs": [],
   "source": [
    "! cat filename.xml"
   ]
  },
  {
   "cell_type": "code",
   "execution_count": null,
   "metadata": {},
   "outputs": [],
   "source": []
  }
 ],
 "metadata": {
  "kernelspec": {
   "display_name": "Python 3",
   "language": "python",
   "name": "python3"
  },
  "language_info": {
   "codemirror_mode": {
    "name": "ipython",
    "version": 3
   },
   "file_extension": ".py",
   "mimetype": "text/x-python",
   "name": "python",
   "nbconvert_exporter": "python",
   "pygments_lexer": "ipython3",
   "version": "3.6.5"
  }
 },
 "nbformat": 4,
 "nbformat_minor": 2
}
